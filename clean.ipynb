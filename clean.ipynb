{
 "cells": [
  {
   "cell_type": "code",
   "execution_count": 20,
   "metadata": {},
   "outputs": [],
   "source": [
    "import pandas as pd"
   ]
  },
  {
   "cell_type": "code",
   "execution_count": 21,
   "id": "68cf381e",
   "metadata": {},
   "outputs": [],
   "source": [
    "import numpy as np"
   ]
  },
  {
   "cell_type": "code",
   "execution_count": 22,
   "id": "bb5ff2d6",
   "metadata": {},
   "outputs": [
    {
     "data": {
      "application/vnd.microsoft.datawrangler.viewer.v0+json": {
       "columns": [
        {
         "name": "index",
         "rawType": "int64",
         "type": "integer"
        },
        {
         "name": "Invoice ID",
         "rawType": "object",
         "type": "string"
        },
        {
         "name": "Branch",
         "rawType": "object",
         "type": "string"
        },
        {
         "name": "City",
         "rawType": "object",
         "type": "string"
        },
        {
         "name": "Customer type",
         "rawType": "object",
         "type": "string"
        },
        {
         "name": "Gender",
         "rawType": "object",
         "type": "string"
        },
        {
         "name": "Product line",
         "rawType": "object",
         "type": "string"
        },
        {
         "name": "Unit price",
         "rawType": "float64",
         "type": "float"
        },
        {
         "name": "Quantity",
         "rawType": "int64",
         "type": "integer"
        },
        {
         "name": "Tax 5%",
         "rawType": "float64",
         "type": "float"
        },
        {
         "name": "Sales",
         "rawType": "float64",
         "type": "float"
        },
        {
         "name": "Date",
         "rawType": "object",
         "type": "string"
        },
        {
         "name": "Time",
         "rawType": "object",
         "type": "string"
        },
        {
         "name": "Payment",
         "rawType": "object",
         "type": "string"
        },
        {
         "name": "cogs",
         "rawType": "float64",
         "type": "float"
        },
        {
         "name": "gross margin percentage",
         "rawType": "float64",
         "type": "float"
        },
        {
         "name": "gross income",
         "rawType": "float64",
         "type": "float"
        },
        {
         "name": "Rating",
         "rawType": "float64",
         "type": "float"
        }
       ],
       "ref": "efc9470c-91e4-4d2e-9f64-56722a4c3128",
       "rows": [
        [
         "0",
         "750-67-8428",
         "Alex",
         "Yangon",
         "Member",
         "Female",
         "Health and beauty",
         "74.69",
         "7",
         "26.1415",
         "548.9715",
         "1/5/2019",
         "1:08:00 PM",
         "Ewallet",
         "522.83",
         "4.761904762",
         "26.1415",
         "9.1"
        ],
        [
         "1",
         "226-31-3081",
         "Giza",
         "Naypyitaw",
         "Normal",
         "Female",
         "Electronic accessories",
         "15.28",
         "5",
         "3.82",
         "80.22",
         "3/8/2019",
         "10:29:00 AM",
         "Cash",
         "76.4",
         "4.761904762",
         "3.82",
         "9.6"
        ],
        [
         "2",
         "631-41-3108",
         "Alex",
         "Yangon",
         "Normal",
         "Female",
         "Home and lifestyle",
         "46.33",
         "7",
         "16.2155",
         "340.5255",
         "3/3/2019",
         "1:23:00 PM",
         "Credit card",
         "324.31",
         "4.761904762",
         "16.2155",
         "7.4"
        ],
        [
         "3",
         "123-19-1176",
         "Alex",
         "Yangon",
         "Member",
         "Female",
         "Health and beauty",
         "58.22",
         "8",
         "23.288",
         "489.048",
         "1/27/2019",
         "8:33:00 PM",
         "Ewallet",
         "465.76",
         "4.761904762",
         "23.288",
         "8.4"
        ],
        [
         "4",
         "373-73-7910",
         "Alex",
         "Yangon",
         "Member",
         "Female",
         "Sports and travel",
         "86.31",
         "7",
         "30.2085",
         "634.3785",
         "2/8/2019",
         "10:37:00 AM",
         "Ewallet",
         "604.17",
         "4.761904762",
         "30.2085",
         "5.3"
        ]
       ],
       "shape": {
        "columns": 17,
        "rows": 5
       }
      },
      "text/html": [
       "<div>\n",
       "<style scoped>\n",
       "    .dataframe tbody tr th:only-of-type {\n",
       "        vertical-align: middle;\n",
       "    }\n",
       "\n",
       "    .dataframe tbody tr th {\n",
       "        vertical-align: top;\n",
       "    }\n",
       "\n",
       "    .dataframe thead th {\n",
       "        text-align: right;\n",
       "    }\n",
       "</style>\n",
       "<table border=\"1\" class=\"dataframe\">\n",
       "  <thead>\n",
       "    <tr style=\"text-align: right;\">\n",
       "      <th></th>\n",
       "      <th>Invoice ID</th>\n",
       "      <th>Branch</th>\n",
       "      <th>City</th>\n",
       "      <th>Customer type</th>\n",
       "      <th>Gender</th>\n",
       "      <th>Product line</th>\n",
       "      <th>Unit price</th>\n",
       "      <th>Quantity</th>\n",
       "      <th>Tax 5%</th>\n",
       "      <th>Sales</th>\n",
       "      <th>Date</th>\n",
       "      <th>Time</th>\n",
       "      <th>Payment</th>\n",
       "      <th>cogs</th>\n",
       "      <th>gross margin percentage</th>\n",
       "      <th>gross income</th>\n",
       "      <th>Rating</th>\n",
       "    </tr>\n",
       "  </thead>\n",
       "  <tbody>\n",
       "    <tr>\n",
       "      <th>0</th>\n",
       "      <td>750-67-8428</td>\n",
       "      <td>Alex</td>\n",
       "      <td>Yangon</td>\n",
       "      <td>Member</td>\n",
       "      <td>Female</td>\n",
       "      <td>Health and beauty</td>\n",
       "      <td>74.69</td>\n",
       "      <td>7</td>\n",
       "      <td>26.1415</td>\n",
       "      <td>548.9715</td>\n",
       "      <td>1/5/2019</td>\n",
       "      <td>1:08:00 PM</td>\n",
       "      <td>Ewallet</td>\n",
       "      <td>522.83</td>\n",
       "      <td>4.761905</td>\n",
       "      <td>26.1415</td>\n",
       "      <td>9.1</td>\n",
       "    </tr>\n",
       "    <tr>\n",
       "      <th>1</th>\n",
       "      <td>226-31-3081</td>\n",
       "      <td>Giza</td>\n",
       "      <td>Naypyitaw</td>\n",
       "      <td>Normal</td>\n",
       "      <td>Female</td>\n",
       "      <td>Electronic accessories</td>\n",
       "      <td>15.28</td>\n",
       "      <td>5</td>\n",
       "      <td>3.8200</td>\n",
       "      <td>80.2200</td>\n",
       "      <td>3/8/2019</td>\n",
       "      <td>10:29:00 AM</td>\n",
       "      <td>Cash</td>\n",
       "      <td>76.40</td>\n",
       "      <td>4.761905</td>\n",
       "      <td>3.8200</td>\n",
       "      <td>9.6</td>\n",
       "    </tr>\n",
       "    <tr>\n",
       "      <th>2</th>\n",
       "      <td>631-41-3108</td>\n",
       "      <td>Alex</td>\n",
       "      <td>Yangon</td>\n",
       "      <td>Normal</td>\n",
       "      <td>Female</td>\n",
       "      <td>Home and lifestyle</td>\n",
       "      <td>46.33</td>\n",
       "      <td>7</td>\n",
       "      <td>16.2155</td>\n",
       "      <td>340.5255</td>\n",
       "      <td>3/3/2019</td>\n",
       "      <td>1:23:00 PM</td>\n",
       "      <td>Credit card</td>\n",
       "      <td>324.31</td>\n",
       "      <td>4.761905</td>\n",
       "      <td>16.2155</td>\n",
       "      <td>7.4</td>\n",
       "    </tr>\n",
       "    <tr>\n",
       "      <th>3</th>\n",
       "      <td>123-19-1176</td>\n",
       "      <td>Alex</td>\n",
       "      <td>Yangon</td>\n",
       "      <td>Member</td>\n",
       "      <td>Female</td>\n",
       "      <td>Health and beauty</td>\n",
       "      <td>58.22</td>\n",
       "      <td>8</td>\n",
       "      <td>23.2880</td>\n",
       "      <td>489.0480</td>\n",
       "      <td>1/27/2019</td>\n",
       "      <td>8:33:00 PM</td>\n",
       "      <td>Ewallet</td>\n",
       "      <td>465.76</td>\n",
       "      <td>4.761905</td>\n",
       "      <td>23.2880</td>\n",
       "      <td>8.4</td>\n",
       "    </tr>\n",
       "    <tr>\n",
       "      <th>4</th>\n",
       "      <td>373-73-7910</td>\n",
       "      <td>Alex</td>\n",
       "      <td>Yangon</td>\n",
       "      <td>Member</td>\n",
       "      <td>Female</td>\n",
       "      <td>Sports and travel</td>\n",
       "      <td>86.31</td>\n",
       "      <td>7</td>\n",
       "      <td>30.2085</td>\n",
       "      <td>634.3785</td>\n",
       "      <td>2/8/2019</td>\n",
       "      <td>10:37:00 AM</td>\n",
       "      <td>Ewallet</td>\n",
       "      <td>604.17</td>\n",
       "      <td>4.761905</td>\n",
       "      <td>30.2085</td>\n",
       "      <td>5.3</td>\n",
       "    </tr>\n",
       "  </tbody>\n",
       "</table>\n",
       "</div>"
      ],
      "text/plain": [
       "    Invoice ID Branch       City Customer type  Gender  \\\n",
       "0  750-67-8428   Alex     Yangon        Member  Female   \n",
       "1  226-31-3081   Giza  Naypyitaw        Normal  Female   \n",
       "2  631-41-3108   Alex     Yangon        Normal  Female   \n",
       "3  123-19-1176   Alex     Yangon        Member  Female   \n",
       "4  373-73-7910   Alex     Yangon        Member  Female   \n",
       "\n",
       "             Product line  Unit price  Quantity   Tax 5%     Sales       Date  \\\n",
       "0       Health and beauty       74.69         7  26.1415  548.9715   1/5/2019   \n",
       "1  Electronic accessories       15.28         5   3.8200   80.2200   3/8/2019   \n",
       "2      Home and lifestyle       46.33         7  16.2155  340.5255   3/3/2019   \n",
       "3       Health and beauty       58.22         8  23.2880  489.0480  1/27/2019   \n",
       "4       Sports and travel       86.31         7  30.2085  634.3785   2/8/2019   \n",
       "\n",
       "          Time      Payment    cogs  gross margin percentage  gross income  \\\n",
       "0   1:08:00 PM      Ewallet  522.83                 4.761905       26.1415   \n",
       "1  10:29:00 AM         Cash   76.40                 4.761905        3.8200   \n",
       "2   1:23:00 PM  Credit card  324.31                 4.761905       16.2155   \n",
       "3   8:33:00 PM      Ewallet  465.76                 4.761905       23.2880   \n",
       "4  10:37:00 AM      Ewallet  604.17                 4.761905       30.2085   \n",
       "\n",
       "   Rating  \n",
       "0     9.1  \n",
       "1     9.6  \n",
       "2     7.4  \n",
       "3     8.4  \n",
       "4     5.3  "
      ]
     },
     "execution_count": 22,
     "metadata": {},
     "output_type": "execute_result"
    }
   ],
   "source": [
    "from os import read\n",
    "a=pd.read_csv(\"SuperMarket Analysis.csv\")\n",
    "a.head()\n"
   ]
  },
  {
   "cell_type": "code",
   "execution_count": 23,
   "id": "af26430c",
   "metadata": {},
   "outputs": [
    {
     "data": {
      "text/plain": [
       "Index(['Invoice ID', 'Branch', 'City', 'Customer type', 'Gender',\n",
       "       'Product line', 'Unit price', 'Quantity', 'Tax 5%', 'Sales', 'Date',\n",
       "       'Time', 'Payment', 'cogs', 'gross margin percentage', 'gross income',\n",
       "       'Rating'],\n",
       "      dtype='object')"
      ]
     },
     "execution_count": 23,
     "metadata": {},
     "output_type": "execute_result"
    }
   ],
   "source": [
    "a.columns"
   ]
  },
  {
   "cell_type": "code",
   "execution_count": 24,
   "id": "19409764",
   "metadata": {},
   "outputs": [
    {
     "data": {
      "application/vnd.microsoft.datawrangler.viewer.v0+json": {
       "columns": [
        {
         "name": "index",
         "rawType": "int64",
         "type": "integer"
        },
        {
         "name": "cogs",
         "rawType": "float64",
         "type": "float"
        }
       ],
       "ref": "fcf7d724-14dd-486d-b1a5-bffbcb13ac6f",
       "rows": [
        [
         "0",
         "522.83"
        ],
        [
         "1",
         "76.4"
        ],
        [
         "2",
         "324.31"
        ],
        [
         "3",
         "465.76"
        ],
        [
         "4",
         "604.17"
        ],
        [
         "5",
         "597.73"
        ],
        [
         "6",
         "413.04"
        ],
        [
         "7",
         "735.6"
        ],
        [
         "8",
         "72.52"
        ],
        [
         "9",
         "164.52"
        ],
        [
         "10",
         "57.92"
        ],
        [
         "11",
         "102.04"
        ],
        [
         "12",
         "234.75"
        ],
        [
         "13",
         "431.9"
        ],
        [
         "14",
         "713.8"
        ],
        [
         "15",
         "562.32"
        ],
        [
         "16",
         "482.51"
        ],
        [
         "17",
         "435.66"
        ],
        [
         "18",
         "164.01"
        ],
        [
         "19",
         "80.6"
        ],
        [
         "20",
         "430.2"
        ],
        [
         "21",
         "263.94"
        ],
        [
         "22",
         "66.4"
        ],
        [
         "23",
         "172.8"
        ],
        [
         "24",
         "265.89"
        ],
        [
         "25",
         "420.72"
        ],
        [
         "26",
         "33.52"
        ],
        [
         "27",
         "175.34"
        ],
        [
         "28",
         "441.8"
        ],
        [
         "29",
         "224.01"
        ],
        [
         "30",
         "470.65"
        ],
        [
         "31",
         "702.63"
        ],
        [
         "32",
         "670.24"
        ],
        [
         "33",
         "193.16"
        ],
        [
         "34",
         "397.68"
        ],
        [
         "35",
         "68.12"
        ],
        [
         "36",
         "313.1"
        ],
        [
         "37",
         "547.92"
        ],
        [
         "38",
         "439.36"
        ],
        [
         "39",
         "240.96"
        ],
        [
         "40",
         "86.72"
        ],
        [
         "41",
         "112.22"
        ],
        [
         "42",
         "414.72"
        ],
        [
         "43",
         "789.6"
        ],
        [
         "44",
         "30.74"
        ],
        [
         "45",
         "375.84"
        ],
        [
         "46",
         "510.21"
        ],
        [
         "47",
         "180.09"
        ],
        [
         "48",
         "113.58"
        ],
        [
         "49",
         "826.3"
        ]
       ],
       "shape": {
        "columns": 1,
        "rows": 1000
       }
      },
      "text/plain": [
       "0      522.83\n",
       "1       76.40\n",
       "2      324.31\n",
       "3      465.76\n",
       "4      604.17\n",
       "        ...  \n",
       "995     40.35\n",
       "996    973.80\n",
       "997     31.84\n",
       "998     65.82\n",
       "999    618.38\n",
       "Name: cogs, Length: 1000, dtype: float64"
      ]
     },
     "execution_count": 24,
     "metadata": {},
     "output_type": "execute_result"
    }
   ],
   "source": [
    "a.cogs"
   ]
  },
  {
   "cell_type": "code",
   "execution_count": 25,
   "id": "7bf9986f",
   "metadata": {},
   "outputs": [
    {
     "name": "stdout",
     "output_type": "stream",
     "text": [
      "0      Female\n",
      "1      Female\n",
      "2      Female\n",
      "3      Female\n",
      "4      Female\n",
      "        ...  \n",
      "995      Male\n",
      "996    Female\n",
      "997      Male\n",
      "998      Male\n",
      "999    Female\n",
      "Name: Gender, Length: 1000, dtype: object\n"
     ]
    }
   ],
   "source": [
    "c=a.Gender\n",
    "print(c)"
   ]
  },
  {
   "cell_type": "code",
   "execution_count": 26,
   "id": "46769907",
   "metadata": {},
   "outputs": [
    {
     "name": "stdout",
     "output_type": "stream",
     "text": [
      "0      Member\n",
      "1      Normal\n",
      "2      Normal\n",
      "3      Member\n",
      "4      Member\n",
      "        ...  \n",
      "995    Normal\n",
      "996    Normal\n",
      "997    Member\n",
      "998    Normal\n",
      "999    Member\n",
      "Name: Customer type, Length: 1000, dtype: object\n"
     ]
    }
   ],
   "source": [
    "\n",
    "d=a[\"Customer type\"]\n",
    "print(d)\n",
    "        \n",
    "        "
   ]
  },
  {
   "cell_type": "code",
   "execution_count": 27,
   "id": "cfff6ade",
   "metadata": {},
   "outputs": [
    {
     "name": "stdout",
     "output_type": "stream",
     "text": [
      "0      Female\n",
      "1      Female\n",
      "2      Female\n",
      "3      Female\n",
      "4      Female\n",
      "        ...  \n",
      "995      Male\n",
      "996    Female\n",
      "997      Male\n",
      "998      Male\n",
      "999    Female\n",
      "Name: Gender, Length: 1000, dtype: object\n"
     ]
    }
   ],
   "source": [
    "gender=a[\"Gender\"]\n",
    "print(gender)"
   ]
  },
  {
   "cell_type": "code",
   "execution_count": 28,
   "id": "3a0a3162",
   "metadata": {},
   "outputs": [
    {
     "data": {
      "application/vnd.microsoft.datawrangler.viewer.v0+json": {
       "columns": [
        {
         "name": "index",
         "rawType": "object",
         "type": "string"
        },
        {
         "name": "Unit price",
         "rawType": "float64",
         "type": "float"
        },
        {
         "name": "Quantity",
         "rawType": "float64",
         "type": "float"
        },
        {
         "name": "Tax 5%",
         "rawType": "float64",
         "type": "float"
        },
        {
         "name": "Sales",
         "rawType": "float64",
         "type": "float"
        },
        {
         "name": "cogs",
         "rawType": "float64",
         "type": "float"
        },
        {
         "name": "gross margin percentage",
         "rawType": "float64",
         "type": "float"
        },
        {
         "name": "gross income",
         "rawType": "float64",
         "type": "float"
        },
        {
         "name": "Rating",
         "rawType": "float64",
         "type": "float"
        }
       ],
       "ref": "2ef47806-47cb-4a01-81a4-d1fb5a053bad",
       "rows": [
        [
         "count",
         "1000.0",
         "1000.0",
         "1000.0",
         "1000.0",
         "1000.0",
         "1000.0",
         "1000.0",
         "1000.0"
        ],
        [
         "mean",
         "55.67213",
         "5.51",
         "15.379368999999999",
         "322.966749",
         "307.58738",
         "4.761904762",
         "15.379368999999999",
         "6.9727"
        ],
        [
         "std",
         "26.49462834791978",
         "2.923430595455696",
         "11.708825480998659",
         "245.88533510097187",
         "234.1765096199732",
         "0.0",
         "11.708825480998659",
         "1.7185802943791215"
        ],
        [
         "min",
         "10.08",
         "1.0",
         "0.5085",
         "10.6785",
         "10.17",
         "4.761904762",
         "0.5085",
         "4.0"
        ],
        [
         "25%",
         "32.875",
         "3.0",
         "5.924875",
         "124.422375",
         "118.4975",
         "4.761904762",
         "5.924875",
         "5.5"
        ],
        [
         "50%",
         "55.230000000000004",
         "5.0",
         "12.088000000000001",
         "253.848",
         "241.76",
         "4.761904762",
         "12.088000000000001",
         "7.0"
        ],
        [
         "75%",
         "77.935",
         "8.0",
         "22.44525",
         "471.35024999999996",
         "448.90500000000003",
         "4.761904762",
         "22.44525",
         "8.5"
        ],
        [
         "max",
         "99.96",
         "10.0",
         "49.65",
         "1042.65",
         "993.0",
         "4.761904762",
         "49.65",
         "10.0"
        ]
       ],
       "shape": {
        "columns": 8,
        "rows": 8
       }
      },
      "text/html": [
       "<div>\n",
       "<style scoped>\n",
       "    .dataframe tbody tr th:only-of-type {\n",
       "        vertical-align: middle;\n",
       "    }\n",
       "\n",
       "    .dataframe tbody tr th {\n",
       "        vertical-align: top;\n",
       "    }\n",
       "\n",
       "    .dataframe thead th {\n",
       "        text-align: right;\n",
       "    }\n",
       "</style>\n",
       "<table border=\"1\" class=\"dataframe\">\n",
       "  <thead>\n",
       "    <tr style=\"text-align: right;\">\n",
       "      <th></th>\n",
       "      <th>Unit price</th>\n",
       "      <th>Quantity</th>\n",
       "      <th>Tax 5%</th>\n",
       "      <th>Sales</th>\n",
       "      <th>cogs</th>\n",
       "      <th>gross margin percentage</th>\n",
       "      <th>gross income</th>\n",
       "      <th>Rating</th>\n",
       "    </tr>\n",
       "  </thead>\n",
       "  <tbody>\n",
       "    <tr>\n",
       "      <th>count</th>\n",
       "      <td>1000.000000</td>\n",
       "      <td>1000.000000</td>\n",
       "      <td>1000.000000</td>\n",
       "      <td>1000.000000</td>\n",
       "      <td>1000.00000</td>\n",
       "      <td>1000.000000</td>\n",
       "      <td>1000.000000</td>\n",
       "      <td>1000.00000</td>\n",
       "    </tr>\n",
       "    <tr>\n",
       "      <th>mean</th>\n",
       "      <td>55.672130</td>\n",
       "      <td>5.510000</td>\n",
       "      <td>15.379369</td>\n",
       "      <td>322.966749</td>\n",
       "      <td>307.58738</td>\n",
       "      <td>4.761905</td>\n",
       "      <td>15.379369</td>\n",
       "      <td>6.97270</td>\n",
       "    </tr>\n",
       "    <tr>\n",
       "      <th>std</th>\n",
       "      <td>26.494628</td>\n",
       "      <td>2.923431</td>\n",
       "      <td>11.708825</td>\n",
       "      <td>245.885335</td>\n",
       "      <td>234.17651</td>\n",
       "      <td>0.000000</td>\n",
       "      <td>11.708825</td>\n",
       "      <td>1.71858</td>\n",
       "    </tr>\n",
       "    <tr>\n",
       "      <th>min</th>\n",
       "      <td>10.080000</td>\n",
       "      <td>1.000000</td>\n",
       "      <td>0.508500</td>\n",
       "      <td>10.678500</td>\n",
       "      <td>10.17000</td>\n",
       "      <td>4.761905</td>\n",
       "      <td>0.508500</td>\n",
       "      <td>4.00000</td>\n",
       "    </tr>\n",
       "    <tr>\n",
       "      <th>25%</th>\n",
       "      <td>32.875000</td>\n",
       "      <td>3.000000</td>\n",
       "      <td>5.924875</td>\n",
       "      <td>124.422375</td>\n",
       "      <td>118.49750</td>\n",
       "      <td>4.761905</td>\n",
       "      <td>5.924875</td>\n",
       "      <td>5.50000</td>\n",
       "    </tr>\n",
       "    <tr>\n",
       "      <th>50%</th>\n",
       "      <td>55.230000</td>\n",
       "      <td>5.000000</td>\n",
       "      <td>12.088000</td>\n",
       "      <td>253.848000</td>\n",
       "      <td>241.76000</td>\n",
       "      <td>4.761905</td>\n",
       "      <td>12.088000</td>\n",
       "      <td>7.00000</td>\n",
       "    </tr>\n",
       "    <tr>\n",
       "      <th>75%</th>\n",
       "      <td>77.935000</td>\n",
       "      <td>8.000000</td>\n",
       "      <td>22.445250</td>\n",
       "      <td>471.350250</td>\n",
       "      <td>448.90500</td>\n",
       "      <td>4.761905</td>\n",
       "      <td>22.445250</td>\n",
       "      <td>8.50000</td>\n",
       "    </tr>\n",
       "    <tr>\n",
       "      <th>max</th>\n",
       "      <td>99.960000</td>\n",
       "      <td>10.000000</td>\n",
       "      <td>49.650000</td>\n",
       "      <td>1042.650000</td>\n",
       "      <td>993.00000</td>\n",
       "      <td>4.761905</td>\n",
       "      <td>49.650000</td>\n",
       "      <td>10.00000</td>\n",
       "    </tr>\n",
       "  </tbody>\n",
       "</table>\n",
       "</div>"
      ],
      "text/plain": [
       "        Unit price     Quantity       Tax 5%        Sales        cogs  \\\n",
       "count  1000.000000  1000.000000  1000.000000  1000.000000  1000.00000   \n",
       "mean     55.672130     5.510000    15.379369   322.966749   307.58738   \n",
       "std      26.494628     2.923431    11.708825   245.885335   234.17651   \n",
       "min      10.080000     1.000000     0.508500    10.678500    10.17000   \n",
       "25%      32.875000     3.000000     5.924875   124.422375   118.49750   \n",
       "50%      55.230000     5.000000    12.088000   253.848000   241.76000   \n",
       "75%      77.935000     8.000000    22.445250   471.350250   448.90500   \n",
       "max      99.960000    10.000000    49.650000  1042.650000   993.00000   \n",
       "\n",
       "       gross margin percentage  gross income      Rating  \n",
       "count              1000.000000   1000.000000  1000.00000  \n",
       "mean                  4.761905     15.379369     6.97270  \n",
       "std                   0.000000     11.708825     1.71858  \n",
       "min                   4.761905      0.508500     4.00000  \n",
       "25%                   4.761905      5.924875     5.50000  \n",
       "50%                   4.761905     12.088000     7.00000  \n",
       "75%                   4.761905     22.445250     8.50000  \n",
       "max                   4.761905     49.650000    10.00000  "
      ]
     },
     "execution_count": 28,
     "metadata": {},
     "output_type": "execute_result"
    }
   ],
   "source": [
    "a.describe()"
   ]
  },
  {
   "cell_type": "code",
   "execution_count": 29,
   "id": "b8222a14",
   "metadata": {},
   "outputs": [
    {
     "name": "stdout",
     "output_type": "stream",
     "text": [
      "      Invoice ID Branch       City Customer type Gender  \\\n",
      "141  280-17-4359   Giza  Naypyitaw        Member   Male   \n",
      "147  568-90-5112   Giza  Naypyitaw        Normal   Male   \n",
      "148  262-47-2794  Cairo   Mandalay        Member   Male   \n",
      "149  238-49-0436   Alex     Yangon        Normal   Male   \n",
      "151  584-86-7256   Giza  Naypyitaw        Member   Male   \n",
      "..           ...    ...        ...           ...    ...   \n",
      "992  745-74-0715   Alex     Yangon        Normal   Male   \n",
      "993  690-01-6631  Cairo   Mandalay        Normal   Male   \n",
      "995  233-67-5758   Giza  Naypyitaw        Normal   Male   \n",
      "997  727-02-1313   Alex     Yangon        Member   Male   \n",
      "998  347-56-2442   Alex     Yangon        Normal   Male   \n",
      "\n",
      "               Product line  Unit price  Quantity   Tax 5%     Sales  \\\n",
      "141       Health and beauty       90.50        10  45.2500  950.2500   \n",
      "147       Health and beauty       66.14         4  13.2280  277.7880   \n",
      "148      Home and lifestyle       71.86         8  28.7440  603.6240   \n",
      "149       Health and beauty       32.46         8  12.9840  272.6640   \n",
      "151       Sports and travel       34.56         7  12.0960  254.0160   \n",
      "..                      ...         ...       ...      ...       ...   \n",
      "992  Electronic accessories       58.03         2   5.8030  121.8630   \n",
      "993     Fashion accessories       17.49        10   8.7450  183.6450   \n",
      "995       Health and beauty       40.35         1   2.0175   42.3675   \n",
      "997      Food and beverages       31.84         1   1.5920   33.4320   \n",
      "998      Home and lifestyle       65.82         1   3.2910   69.1110   \n",
      "\n",
      "          Date         Time      Payment    cogs  gross margin percentage  \\\n",
      "141  1/25/2019   1:48:00 PM         Cash  905.00                 4.761905   \n",
      "147  3/19/2019  12:46:00 PM  Credit card  264.56                 4.761905   \n",
      "148   3/6/2019   3:07:00 PM  Credit card  574.88                 4.761905   \n",
      "149  3/27/2019   1:48:00 PM  Credit card  259.68                 4.761905   \n",
      "151  3/11/2019   4:07:00 PM  Credit card  241.92                 4.761905   \n",
      "..         ...          ...          ...     ...                      ...   \n",
      "992  3/10/2019   8:46:00 PM      Ewallet  116.06                 4.761905   \n",
      "993  2/22/2019   6:35:00 PM      Ewallet  174.90                 4.761905   \n",
      "995  1/29/2019   1:46:00 PM      Ewallet   40.35                 4.761905   \n",
      "997   2/9/2019   1:22:00 PM         Cash   31.84                 4.761905   \n",
      "998  2/22/2019   3:33:00 PM         Cash   65.82                 4.761905   \n",
      "\n",
      "     gross income  Rating  \n",
      "141       45.2500     8.1  \n",
      "147       13.2280     5.6  \n",
      "148       28.7440     6.2  \n",
      "149       12.9840     4.9  \n",
      "151       12.0960     7.3  \n",
      "..            ...     ...  \n",
      "992        5.8030     8.8  \n",
      "993        8.7450     6.6  \n",
      "995        2.0175     6.2  \n",
      "997        1.5920     7.7  \n",
      "998        3.2910     4.1  \n",
      "\n",
      "[429 rows x 17 columns]\n"
     ]
    }
   ],
   "source": [
    "males = a[a['Gender'] == 'Male']\n",
    "print(males)"
   ]
  },
  {
   "cell_type": "code",
   "execution_count": 30,
   "id": "1324adda",
   "metadata": {},
   "outputs": [
    {
     "name": "stdout",
     "output_type": "stream",
     "text": [
      "141         Health and beauty\n",
      "147         Health and beauty\n",
      "148        Home and lifestyle\n",
      "149         Health and beauty\n",
      "151         Sports and travel\n",
      "                ...          \n",
      "992    Electronic accessories\n",
      "993       Fashion accessories\n",
      "995         Health and beauty\n",
      "997        Food and beverages\n",
      "998        Home and lifestyle\n",
      "Name: Product line, Length: 429, dtype: object\n"
     ]
    }
   ],
   "source": [
    "maleproducts=males[\"Product line\"]\n",
    "print(maleproducts)"
   ]
  },
  {
   "cell_type": "code",
   "execution_count": 31,
   "id": "42b5d001",
   "metadata": {},
   "outputs": [
    {
     "name": "stdout",
     "output_type": "stream",
     "text": [
      "141    1/25/2019\n",
      "147    3/19/2019\n",
      "148     3/6/2019\n",
      "149    3/27/2019\n",
      "151    3/11/2019\n",
      "         ...    \n",
      "992    3/10/2019\n",
      "993    2/22/2019\n",
      "995    1/29/2019\n",
      "997     2/9/2019\n",
      "998    2/22/2019\n",
      "Name: Date, Length: 429, dtype: object\n"
     ]
    }
   ],
   "source": [
    "maledate = males[\"Date\"]\n",
    "print(maledate)"
   ]
  },
  {
   "cell_type": "code",
   "execution_count": 32,
   "id": "08304b12",
   "metadata": {},
   "outputs": [],
   "source": [
    "a['Date'] = pd.to_datetime(a['Date'])"
   ]
  },
  {
   "cell_type": "code",
   "execution_count": 33,
   "id": "4da0b121",
   "metadata": {},
   "outputs": [
    {
     "name": "stdout",
     "output_type": "stream",
     "text": [
      "0       January\n",
      "1         March\n",
      "2         March\n",
      "3       January\n",
      "4      February\n",
      "         ...   \n",
      "995     January\n",
      "996       March\n",
      "997    February\n",
      "998    February\n",
      "999    February\n",
      "Name: Date, Length: 1000, dtype: object\n"
     ]
    }
   ],
   "source": [
    "monthforall=a['Month'] = a['Date'].dt.month_name()\n",
    "print(monthforall)\n"
   ]
  },
  {
   "cell_type": "code",
   "execution_count": 34,
   "id": "5a95beae",
   "metadata": {},
   "outputs": [
    {
     "name": "stdout",
     "output_type": "stream",
     "text": [
      "Month\n",
      "February    0.282051\n",
      "January     0.368298\n",
      "March       0.349650\n",
      "Name: proportion, dtype: float64\n"
     ]
    }
   ],
   "source": [
    "male_month = a[a['Gender'] == 'Male']\n",
    "\n",
    "# Density (proportion of purchases per month)\n",
    "month_density = male_month['Month'].value_counts(normalize=True).sort_index()\n",
    "print(month_density)\n"
   ]
  },
  {
   "cell_type": "code",
   "execution_count": null,
   "id": "89a90d55",
   "metadata": {},
   "outputs": [],
   "source": []
  },
  {
   "cell_type": "code",
   "execution_count": 35,
   "id": "a9d810b4",
   "metadata": {},
   "outputs": [
    {
     "data": {
      "image/png": "[encoded data removed]",
      "text/plain": [
       "<Figure size 640x480 with 1 Axes>"
      ]
     },
     "metadata": {},
     "output_type": "display_data"
    }
   ],
   "source": [
    "import matplotlib.pyplot as plt\n",
    "\n",
    "\n",
    "month_density.plot(kind='bar')\n",
    "plt.xlabel(\"Month\")\n",
    "plt.ylabel(\"Purchase Density (Male)\")\n",
    "plt.title(\"Monthly Purchase Density for Male Customers\")\n",
    "plt.show()\n",
    "\n"
   ]
  },
  {
   "cell_type": "code",
   "execution_count": 36,
   "id": "e6eaf3b8",
   "metadata": {},
   "outputs": [
    {
     "name": "stdout",
     "output_type": "stream",
     "text": [
      "      Invoice ID Branch       City Customer type  Gender  \\\n",
      "856  770-42-8960  Cairo   Mandalay        Normal    Male   \n",
      "567  651-88-7328   Alex     Yangon        Normal  Female   \n",
      "245  530-90-9855   Alex     Yangon        Member    Male   \n",
      "696  182-52-7000   Alex     Yangon        Member  Female   \n",
      "523  133-14-7229   Giza  Naypyitaw        Normal    Male   \n",
      "..           ...    ...        ...           ...     ...   \n",
      "158  743-04-1105  Cairo   Mandalay        Member    Male   \n",
      "881  115-38-7388   Giza  Naypyitaw        Member  Female   \n",
      "963  364-34-2972   Giza  Naypyitaw        Member    Male   \n",
      "937  361-85-2571   Alex     Yangon        Normal  Female   \n",
      "474  676-39-6028   Alex     Yangon        Member  Female   \n",
      "\n",
      "               Product line  Unit price  Quantity  Tax 5%    Sales       Date  \\\n",
      "856      Food and beverages       21.12         8   8.448  177.408 2019-01-01   \n",
      "567     Fashion accessories       65.74         9  29.583  621.243 2019-01-01   \n",
      "245      Home and lifestyle       47.59         8  19.036  399.756 2019-01-01   \n",
      "696       Sports and travel       27.04         4   5.408  113.568 2019-01-01   \n",
      "523       Health and beauty       62.87         2   6.287  132.027 2019-01-01   \n",
      "..                      ...         ...       ...     ...      ...        ...   \n",
      "158       Health and beauty       97.22         9  43.749  918.729 2019-03-30   \n",
      "881     Fashion accessories       10.18         8   4.072   85.512 2019-03-30   \n",
      "963  Electronic accessories       96.82         3  14.523  304.983 2019-03-30   \n",
      "937       Sports and travel       89.48         5  22.370  469.770 2019-03-30   \n",
      "474  Electronic accessories       64.44         5  16.110  338.310 2019-03-30   \n",
      "\n",
      "            Time      Payment    cogs  gross margin percentage  gross income  \\\n",
      "856   7:31:00 PM         Cash  168.96                 4.761905         8.448   \n",
      "567   1:55:00 PM         Cash  591.66                 4.761905        29.583   \n",
      "245   2:47:00 PM         Cash  380.72                 4.761905        19.036   \n",
      "696   8:26:00 PM      Ewallet  108.16                 4.761905         5.408   \n",
      "523  11:43:00 AM         Cash  125.74                 4.761905         6.287   \n",
      "..           ...          ...     ...                      ...           ...   \n",
      "158   2:43:00 PM      Ewallet  874.98                 4.761905        43.749   \n",
      "881  12:51:00 PM  Credit card   81.44                 4.761905         4.072   \n",
      "963   8:37:00 PM         Cash  290.46                 4.761905        14.523   \n",
      "937  10:18:00 AM         Cash  447.40                 4.761905        22.370   \n",
      "474   5:04:00 PM         Cash  322.20                 4.761905        16.110   \n",
      "\n",
      "     Rating    Month  \n",
      "856     6.3  January  \n",
      "567     7.7  January  \n",
      "245     5.7  January  \n",
      "696     6.9  January  \n",
      "523     5.0  January  \n",
      "..      ...      ...  \n",
      "158     6.0    March  \n",
      "881     9.5    March  \n",
      "963     6.7    March  \n",
      "937     7.4    March  \n",
      "474     6.6    March  \n",
      "\n",
      "[1000 rows x 18 columns]\n"
     ]
    }
   ],
   "source": [
    "trnedtime=a.sort_values(by='Date')\n",
    "print(trnedtime)"
   ]
  },
  {
   "cell_type": "code",
   "execution_count": 37,
   "id": "1e268878",
   "metadata": {},
   "outputs": [],
   "source": [
    "a['Month'] = a['Date'].dt.month_name()   # gives Jan, Feb...\n",
    "a['Year'] = a['Date'].dt.year"
   ]
  },
  {
   "cell_type": "code",
   "execution_count": 38,
   "id": "d7bcdf4c",
   "metadata": {},
   "outputs": [
    {
     "name": "stdout",
     "output_type": "stream",
     "text": [
      "Month\n",
      "January     0.368298\n",
      "March       0.349650\n",
      "February    0.282051\n",
      "Name: proportion, dtype: float64\n"
     ]
    }
   ],
   "source": [
    "month_density = male_month['Month'].value_counts(normalize=True)\n",
    "print(month_density)"
   ]
  },
  {
   "cell_type": "code",
   "execution_count": 39,
   "id": "9720923d",
   "metadata": {},
   "outputs": [
    {
     "name": "stdout",
     "output_type": "stream",
     "text": [
      "Month\n",
      "January     0.368298\n",
      "March       0.349650\n",
      "February    0.282051\n",
      "Name: proportion, dtype: float64\n"
     ]
    }
   ],
   "source": [
    "insights = month_density = male_month['Month'].value_counts(normalize=True)\n",
    "print(insights)\n"
   ]
  },
  {
   "cell_type": "code",
   "execution_count": 40,
   "id": "0d506ea5",
   "metadata": {},
   "outputs": [
    {
     "name": "stdout",
     "output_type": "stream",
     "text": [
      "Month     Month     Product line          \n",
      "February  February  Electronic accessories    0.157025\n",
      "                    Fashion accessories       0.198347\n",
      "                    Food and beverages        0.214876\n",
      "                    Health and beauty         0.148760\n",
      "                    Home and lifestyle        0.165289\n",
      "                    Sports and travel         0.115702\n",
      "January   January   Electronic accessories    0.189873\n",
      "                    Fashion accessories       0.151899\n",
      "                    Food and beverages        0.170886\n",
      "                    Health and beauty         0.170886\n",
      "                    Home and lifestyle        0.151899\n",
      "                    Sports and travel         0.164557\n",
      "March     March     Electronic accessories    0.180000\n",
      "                    Fashion accessories       0.146667\n",
      "                    Food and beverages        0.153333\n",
      "                    Health and beauty         0.200000\n",
      "                    Home and lifestyle        0.166667\n",
      "                    Sports and travel         0.153333\n",
      "dtype: float64\n"
     ]
    }
   ],
   "source": [
    "insights = male_month.groupby(['Month', 'Product line']).size().groupby(level=0).apply(lambda x: x / x.sum())\n",
    "print(insights)"
   ]
  },
  {
   "cell_type": "code",
   "execution_count": 41,
   "id": "8e525e27",
   "metadata": {},
   "outputs": [
    {
     "name": "stdout",
     "output_type": "stream",
     "text": [
      "Month     Month     Product line          \n",
      "February  February  Electronic accessories    15\n",
      "                    Fashion accessories       19\n",
      "                    Food and beverages        21\n",
      "                    Health and beauty         14\n",
      "                    Home and lifestyle        16\n",
      "                    Sports and travel         11\n",
      "January   January   Electronic accessories    18\n",
      "                    Fashion accessories       15\n",
      "                    Food and beverages        17\n",
      "                    Health and beauty         17\n",
      "                    Home and lifestyle        15\n",
      "                    Sports and travel         16\n",
      "March     March     Electronic accessories    18\n",
      "                    Fashion accessories       14\n",
      "                    Food and beverages        15\n",
      "                    Health and beauty         20\n",
      "                    Home and lifestyle        16\n",
      "                    Sports and travel         15\n",
      "dtype: int64\n"
     ]
    }
   ],
   "source": [
    "insights_percent = (insights * 100).astype(int)\n",
    "print(insights_percent)"
   ]
  },
  {
   "cell_type": "code",
   "execution_count": 42,
   "id": "7c39fa6e",
   "metadata": {},
   "outputs": [
    {
     "name": "stdout",
     "output_type": "stream",
     "text": [
      "Month     Product line          \n",
      "February  Electronic accessories    19\n",
      "          Fashion accessories       24\n",
      "          Food and beverages        26\n",
      "          Health and beauty         18\n",
      "          Home and lifestyle        20\n",
      "          Sports and travel         14\n",
      "January   Electronic accessories    30\n",
      "          Fashion accessories       24\n",
      "          Food and beverages        27\n",
      "          Health and beauty         27\n",
      "          Home and lifestyle        24\n",
      "          Sports and travel         26\n",
      "March     Electronic accessories    27\n",
      "          Fashion accessories       22\n",
      "          Food and beverages        23\n",
      "          Health and beauty         30\n",
      "          Home and lifestyle        25\n",
      "          Sports and travel         23\n",
      "dtype: int64\n"
     ]
    }
   ],
   "source": [
    "insights_counts = male_month.groupby(['Month', 'Product line']).size()\n",
    "print(insights_counts)"
   ]
  },
  {
   "cell_type": "code",
   "execution_count": 44,
   "id": "a78679b1",
   "metadata": {},
   "outputs": [],
   "source": [
    "import pandas as pd\n",
    "import plotly.express as px\n",
    "\n",
    "# Ensure Date is datetime\n",
    "a['Date'] = pd.to_datetime(a['Date'])\n",
    "\n",
    "# Extract month names (or use .dt.month for numbers)\n",
    "a['Month'] = a['Date'].dt.month_name()\n",
    "\n",
    "# Group by Month + ProductType\n",
    "monthly_sales = a.groupby(['Month', 'Product line']).size().reset_index(name='Sales')\n"
   ]
  },
  {
   "cell_type": "code",
   "execution_count": 46,
   "id": "1586b708",
   "metadata": {},
   "outputs": [
    {
     "data": {
      "application/vnd.plotly.v1+json": {
       "config": {
        "plotlyServerURL": "https://plot.ly"
       },
       "data": [
        {
         "hovertemplate": "Product line=Electronic accessories<br>Month=%{x}<br>Sales=%{y}<extra></extra>",
         "legendgroup": "Electronic accessories",
         "line": {
          "color": "#636efa",
          "dash": "solid"
         },
         "marker": {
          "symbol": "circle"
         },
         "mode": "lines+markers",
         "name": "Electronic accessories",
         "orientation": "v",
         "showlegend": true,
         "type": "scatter",
         "x": [
          "February",
          "January",
          "March"
         ],
         "xaxis": "x",
         "y": {
          "bdata": "NjY+",
          "dtype": "i1"
         },
         "yaxis": "y"
        },
        {
         "hovertemplate": "Product line=Fashion accessories<br>Month=%{x}<br>Sales=%{y}<extra></extra>",
         "legendgroup": "Fashion accessories",
         "line": {
          "color": "#EF553B",
          "dash": "solid"
         },
         "marker": {
          "symbol": "circle"
         },
         "mode": "lines+markers",
         "name": "Fashion accessories",
         "orientation": "v",
         "showlegend": true,
         "type": "scatter",
         "x": [
          "February",
          "January",
          "March"
         ],
         "xaxis": "x",
         "y": {
          "bdata": "PEA2",
          "dtype": "i1"
         },
         "yaxis": "y"
        },
        {
         "hovertemplate": "Product line=Food and beverages<br>Month=%{x}<br>Sales=%{y}<extra></extra>",
         "legendgroup": "Food and beverages",
         "line": {
          "color": "#00cc96",
          "dash": "solid"
         },
         "marker": {
          "symbol": "circle"
         },
         "mode": "lines+markers",
         "name": "Food and beverages",
         "orientation": "v",
         "showlegend": true,
         "type": "scatter",
         "x": [
          "February",
          "January",
          "March"
         ],
         "xaxis": "x",
         "y": {
          "bdata": "Pjg4",
          "dtype": "i1"
         },
         "yaxis": "y"
        },
        {
         "hovertemplate": "Product line=Health and beauty<br>Month=%{x}<br>Sales=%{y}<extra></extra>",
         "legendgroup": "Health and beauty",
         "line": {
          "color": "#ab63fa",
          "dash": "solid"
         },
         "marker": {
          "symbol": "circle"
         },
         "mode": "lines+markers",
         "name": "Health and beauty",
         "orientation": "v",
         "showlegend": true,
         "type": "scatter",
         "x": [
          "February",
          "January",
          "March"
         ],
         "xaxis": "x",
         "y": {
          "bdata": "LjE5",
          "dtype": "i1"
         },
         "yaxis": "y"
        },
        {
         "hovertemplate": "Product line=Home and lifestyle<br>Month=%{x}<br>Sales=%{y}<extra></extra>",
         "legendgroup": "Home and lifestyle",
         "line": {
          "color": "#FFA15A",
          "dash": "solid"
         },
         "marker": {
          "symbol": "circle"
         },
         "mode": "lines+markers",
         "name": "Home and lifestyle",
         "orientation": "v",
         "showlegend": true,
         "type": "scatter",
         "x": [
          "February",
          "January",
          "March"
         ],
         "xaxis": "x",
         "y": {
          "bdata": "Jjs/",
          "dtype": "i1"
         },
         "yaxis": "y"
        },
        {
         "hovertemplate": "Product line=Sports and travel<br>Month=%{x}<br>Sales=%{y}<extra></extra>",
         "legendgroup": "Sports and travel",
         "line": {
          "color": "#19d3f3",
          "dash": "solid"
         },
         "marker": {
          "symbol": "circle"
         },
         "mode": "lines+markers",
         "name": "Sports and travel",
         "orientation": "v",
         "showlegend": true,
         "type": "scatter",
         "x": [
          "February",
          "January",
          "March"
         ],
         "xaxis": "x",
         "y": {
          "bdata": "K0Y1",
          "dtype": "i1"
         },
         "yaxis": "y"
        }
       ],
       "layout": {
        "legend": {
         "title": {
          "text": "Product line"
         },
         "tracegroupgap": 0
        },
        "template": {
         "data": {
          "bar": [
           {
            "error_x": {
             "color": "#2a3f5f"
            },
            "error_y": {
             "color": "#2a3f5f"
            },
            "marker": {
             "line": {
              "color": "#E5ECF6",
              "width": 0.5
             },
             "pattern": {
              "fillmode": "overlay",
              "size": 10,
              "solidity": 0.2
             }
            },
            "type": "bar"
           }
          ],
          "barpolar": [
           {
            "marker": {
             "line": {
              "color": "#E5ECF6",
              "width": 0.5
             },
             "pattern": {
              "fillmode": "overlay",
              "size": 10,
              "solidity": 0.2
             }
            },
            "type": "barpolar"
           }
          ],
          "carpet": [
           {
            "aaxis": {
             "endlinecolor": "#2a3f5f",
             "gridcolor": "white",
             "linecolor": "white",
             "minorgridcolor": "white",
             "startlinecolor": "#2a3f5f"
            },
            "baxis": {
             "endlinecolor": "#2a3f5f",
             "gridcolor": "white",
             "linecolor": "white",
             "minorgridcolor": "white",
             "startlinecolor": "#2a3f5f"
            },
            "type": "carpet"
           }
          ],
          "choropleth": [
           {
            "colorbar": {
             "outlinewidth": 0,
             "ticks": ""
            },
            "type": "choropleth"
           }
          ],
          "contour": [
           {
            "colorbar": {
             "outlinewidth": 0,
             "ticks": ""
            },
            "colorscale": [
             [
              0,
              "#0d0887"
             ],
             [
              0.1111111111111111,
              "#46039f"
             ],
             [
              0.2222222222222222,
              "#7201a8"
             ],
             [
              0.3333333333333333,
              "#9c179e"
             ],
             [
              0.4444444444444444,
              "#bd3786"
             ],
             [
              0.5555555555555556,
              "#d8576b"
             ],
             [
              0.6666666666666666,
              "#ed7953"
             ],
             [
              0.7777777777777778,
              "#fb9f3a"
             ],
             [
              0.8888888888888888,
              "#fdca26"
             ],
             [
              1,
              "#f0f921"
             ]
            ],
            "type": "contour"
           }
          ],
          "contourcarpet": [
           {
            "colorbar": {
             "outlinewidth": 0,
             "ticks": ""
            },
            "type": "contourcarpet"
           }
          ],
          "heatmap": [
           {
            "colorbar": {
             "outlinewidth": 0,
             "ticks": ""
            },
            "colorscale": [
             [
              0,
              "#0d0887"
             ],
             [
              0.1111111111111111,
              "#46039f"
             ],
             [
              0.2222222222222222,
              "#7201a8"
             ],
             [
              0.3333333333333333,
              "#9c179e"
             ],
             [
              0.4444444444444444,
              "#bd3786"
             ],
             [
              0.5555555555555556,
              "#d8576b"
             ],
             [
              0.6666666666666666,
              "#ed7953"
             ],
             [
              0.7777777777777778,
              "#fb9f3a"
             ],
             [
              0.8888888888888888,
              "#fdca26"
             ],
             [
              1,
              "#f0f921"
             ]
            ],
            "type": "heatmap"
           }
          ],
          "histogram": [
           {
            "marker": {
             "pattern": {
              "fillmode": "overlay",
              "size": 10,
              "solidity": 0.2
             }
            },
            "type": "histogram"
           }
          ],
          "histogram2d": [
           {
            "colorbar": {
             "outlinewidth": 0,
             "ticks": ""
            },
            "colorscale": [
             [
              0,
              "#0d0887"
             ],
             [
              0.1111111111111111,
              "#46039f"
             ],
             [
              0.2222222222222222,
              "#7201a8"
             ],
             [
              0.3333333333333333,
              "#9c179e"
             ],
             [
              0.4444444444444444,
              "#bd3786"
             ],
             [
              0.5555555555555556,
              "#d8576b"
             ],
             [
              0.6666666666666666,
              "#ed7953"
             ],
             [
              0.7777777777777778,
              "#fb9f3a"
             ],
             [
              0.8888888888888888,
              "#fdca26"
             ],
             [
              1,
              "#f0f921"
             ]
            ],
            "type": "histogram2d"
           }
          ],
          "histogram2dcontour": [
           {
            "colorbar": {
             "outlinewidth": 0,
             "ticks": ""
            },
            "colorscale": [
             [
              0,
              "#0d0887"
             ],
             [
              0.1111111111111111,
              "#46039f"
             ],
             [
              0.2222222222222222,
              "#7201a8"
             ],
             [
              0.3333333333333333,
              "#9c179e"
             ],
             [
              0.4444444444444444,
              "#bd3786"
             ],
             [
              0.5555555555555556,
              "#d8576b"
             ],
             [
              0.6666666666666666,
              "#ed7953"
             ],
             [
              0.7777777777777778,
              "#fb9f3a"
             ],
             [
              0.8888888888888888,
              "#fdca26"
             ],
             [
              1,
              "#f0f921"
             ]
            ],
            "type": "histogram2dcontour"
           }
          ],
          "mesh3d": [
           {
            "colorbar": {
             "outlinewidth": 0,
             "ticks": ""
            },
            "type": "mesh3d"
           }
          ],
          "parcoords": [
           {
            "line": {
             "colorbar": {
              "outlinewidth": 0,
              "ticks": ""
             }
            },
            "type": "parcoords"
           }
          ],
          "pie": [
           {
            "automargin": true,
            "type": "pie"
           }
          ],
          "scatter": [
           {
            "fillpattern": {
             "fillmode": "overlay",
             "size": 10,
             "solidity": 0.2
            },
            "type": "scatter"
           }
          ],
          "scatter3d": [
           {
            "line": {
             "colorbar": {
              "outlinewidth": 0,
              "ticks": ""
             }
            },
            "marker": {
             "colorbar": {
              "outlinewidth": 0,
              "ticks": ""
             }
            },
            "type": "scatter3d"
           }
          ],
          "scattercarpet": [
           {
            "marker": {
             "colorbar": {
              "outlinewidth": 0,
              "ticks": ""
             }
            },
            "type": "scattercarpet"
           }
          ],
          "scattergeo": [
           {
            "marker": {
             "colorbar": {
              "outlinewidth": 0,
              "ticks": ""
             }
            },
            "type": "scattergeo"
           }
          ],
          "scattergl": [
           {
            "marker": {
             "colorbar": {
              "outlinewidth": 0,
              "ticks": ""
             }
            },
            "type": "scattergl"
           }
          ],
          "scattermap": [
           {
            "marker": {
             "colorbar": {
              "outlinewidth": 0,
              "ticks": ""
             }
            },
            "type": "scattermap"
           }
          ],
          "scattermapbox": [
           {
            "marker": {
             "colorbar": {
              "outlinewidth": 0,
              "ticks": ""
             }
            },
            "type": "scattermapbox"
           }
          ],
          "scatterpolar": [
           {
            "marker": {
             "colorbar": {
              "outlinewidth": 0,
              "ticks": ""
             }
            },
            "type": "scatterpolar"
           }
          ],
          "scatterpolargl": [
           {
            "marker": {
             "colorbar": {
              "outlinewidth": 0,
              "ticks": ""
             }
            },
            "type": "scatterpolargl"
           }
          ],
          "scatterternary": [
           {
            "marker": {
             "colorbar": {
              "outlinewidth": 0,
              "ticks": ""
             }
            },
            "type": "scatterternary"
           }
          ],
          "surface": [
           {
            "colorbar": {
             "outlinewidth": 0,
             "ticks": ""
            },
            "colorscale": [
             [
              0,
              "#0d0887"
             ],
             [
              0.1111111111111111,
              "#46039f"
             ],
             [
              0.2222222222222222,
              "#7201a8"
             ],
             [
              0.3333333333333333,
              "#9c179e"
             ],
             [
              0.4444444444444444,
              "#bd3786"
             ],
             [
              0.5555555555555556,
              "#d8576b"
             ],
             [
              0.6666666666666666,
              "#ed7953"
             ],
             [
              0.7777777777777778,
              "#fb9f3a"
             ],
             [
              0.8888888888888888,
              "#fdca26"
             ],
             [
              1,
              "#f0f921"
             ]
            ],
            "type": "surface"
           }
          ],
          "table": [
           {
            "cells": {
             "fill": {
              "color": "#EBF0F8"
             },
             "line": {
              "color": "white"
             }
            },
            "header": {
             "fill": {
              "color": "#C8D4E3"
             },
             "line": {
              "color": "white"
             }
            },
            "type": "table"
           }
          ]
         },
         "layout": {
          "annotationdefaults": {
           "arrowcolor": "#2a3f5f",
           "arrowhead": 0,
           "arrowwidth": 1
          },
          "autotypenumbers": "strict",
          "coloraxis": {
           "colorbar": {
            "outlinewidth": 0,
            "ticks": ""
           }
          },
          "colorscale": {
           "diverging": [
            [
             0,
             "#8e0152"
            ],
            [
             0.1,
             "#c51b7d"
            ],
            [
             0.2,
             "#de77ae"
            ],
            [
             0.3,
             "#f1b6da"
            ],
            [
             0.4,
             "#fde0ef"
            ],
            [
             0.5,
             "#f7f7f7"
            ],
            [
             0.6,
             "#e6f5d0"
            ],
            [
             0.7,
             "#b8e186"
            ],
            [
             0.8,
             "#7fbc41"
            ],
            [
             0.9,
             "#4d9221"
            ],
            [
             1,
             "#276419"
            ]
           ],
           "sequential": [
            [
             0,
             "#0d0887"
            ],
            [
             0.1111111111111111,
             "#46039f"
            ],
            [
             0.2222222222222222,
             "#7201a8"
            ],
            [
             0.3333333333333333,
             "#9c179e"
            ],
            [
             0.4444444444444444,
             "#bd3786"
            ],
            [
             0.5555555555555556,
             "#d8576b"
            ],
            [
             0.6666666666666666,
             "#ed7953"
            ],
            [
             0.7777777777777778,
             "#fb9f3a"
            ],
            [
             0.8888888888888888,
             "#fdca26"
            ],
            [
             1,
             "#f0f921"
            ]
           ],
           "sequentialminus": [
            [
             0,
             "#0d0887"
            ],
            [
             0.1111111111111111,
             "#46039f"
            ],
            [
             0.2222222222222222,
             "#7201a8"
            ],
            [
             0.3333333333333333,
             "#9c179e"
            ],
            [
             0.4444444444444444,
             "#bd3786"
            ],
            [
             0.5555555555555556,
             "#d8576b"
            ],
            [
             0.6666666666666666,
             "#ed7953"
            ],
            [
             0.7777777777777778,
             "#fb9f3a"
            ],
            [
             0.8888888888888888,
             "#fdca26"
            ],
            [
             1,
             "#f0f921"
            ]
           ]
          },
          "colorway": [
           "#636efa",
           "#EF553B",
           "#00cc96",
           "#ab63fa",
           "#FFA15A",
           "#19d3f3",
           "#FF6692",
           "#B6E880",
           "#FF97FF",
           "#FECB52"
          ],
          "font": {
           "color": "#2a3f5f"
          },
          "geo": {
           "bgcolor": "white",
           "lakecolor": "white",
           "landcolor": "#E5ECF6",
           "showlakes": true,
           "showland": true,
           "subunitcolor": "white"
          },
          "hoverlabel": {
           "align": "left"
          },
          "hovermode": "closest",
          "mapbox": {
           "style": "light"
          },
          "paper_bgcolor": "white",
          "plot_bgcolor": "#E5ECF6",
          "polar": {
           "angularaxis": {
            "gridcolor": "white",
            "linecolor": "white",
            "ticks": ""
           },
           "bgcolor": "#E5ECF6",
           "radialaxis": {
            "gridcolor": "white",
            "linecolor": "white",
            "ticks": ""
           }
          },
          "scene": {
           "xaxis": {
            "backgroundcolor": "#E5ECF6",
            "gridcolor": "white",
            "gridwidth": 2,
            "linecolor": "white",
            "showbackground": true,
            "ticks": "",
            "zerolinecolor": "white"
           },
           "yaxis": {
            "backgroundcolor": "#E5ECF6",
            "gridcolor": "white",
            "gridwidth": 2,
            "linecolor": "white",
            "showbackground": true,
            "ticks": "",
            "zerolinecolor": "white"
           },
           "zaxis": {
            "backgroundcolor": "#E5ECF6",
            "gridcolor": "white",
            "gridwidth": 2,
            "linecolor": "white",
            "showbackground": true,
            "ticks": "",
            "zerolinecolor": "white"
           }
          },
          "shapedefaults": {
           "line": {
            "color": "#2a3f5f"
           }
          },
          "ternary": {
           "aaxis": {
            "gridcolor": "white",
            "linecolor": "white",
            "ticks": ""
           },
           "baxis": {
            "gridcolor": "white",
            "linecolor": "white",
            "ticks": ""
           },
           "bgcolor": "#E5ECF6",
           "caxis": {
            "gridcolor": "white",
            "linecolor": "white",
            "ticks": ""
           }
          },
          "title": {
           "x": 0.05
          },
          "xaxis": {
           "automargin": true,
           "gridcolor": "white",
           "linecolor": "white",
           "ticks": "",
           "title": {
            "standoff": 15
           },
           "zerolinecolor": "white",
           "zerolinewidth": 2
          },
          "yaxis": {
           "automargin": true,
           "gridcolor": "white",
           "linecolor": "white",
           "ticks": "",
           "title": {
            "standoff": 15
           },
           "zerolinecolor": "white",
           "zerolinewidth": 2
          }
         }
        },
        "title": {
         "text": "Monthly Sales Trend by Product Type"
        },
        "xaxis": {
         "anchor": "y",
         "domain": [
          0,
          1
         ],
         "title": {
          "text": "Month"
         }
        },
        "yaxis": {
         "anchor": "x",
         "domain": [
          0,
          1
         ],
         "title": {
          "text": "Sales"
         }
        }
       }
      }
     },
     "metadata": {},
     "output_type": "display_data"
    }
   ],
   "source": [
    "fig = px.line(\n",
    "    monthly_sales,\n",
    "    x='Month',\n",
    "    y='Sales',\n",
    "    color='Product line',\n",
    "    markers=True,\n",
    "    title='Monthly Sales Trend by Product Type'\n",
    ")\n",
    "\n",
    "fig.show()\n"
   ]
  },
  {
   "cell_type": "code",
   "execution_count": 49,
   "id": "1f0c1c67",
   "metadata": {},
   "outputs": [
    {
     "name": "stderr",
     "output_type": "stream",
     "text": [
      "C:\\Users\\omc\\AppData\\Local\\Temp\\ipykernel_11996\\1877979706.py:8: FutureWarning:\n",
      "\n",
      "The default of observed=False is deprecated and will be changed to True in a future version of pandas. Pass observed=False to retain current behavior or observed=True to adopt the future default and silence this warning.\n",
      "\n"
     ]
    },
    {
     "data": {
      "application/vnd.plotly.v1+json": {
       "config": {
        "plotlyServerURL": "https://plot.ly"
       },
       "data": [
        {
         "hovertemplate": "Product line=Electronic accessories<br>Month=%{x}<br>Sales=%{y}<extra></extra>",
         "legendgroup": "Electronic accessories",
         "line": {
          "color": "#636efa",
          "dash": "solid"
         },
         "marker": {
          "symbol": "circle"
         },
         "mode": "lines+markers",
         "name": "Electronic accessories",
         "orientation": "v",
         "showlegend": true,
         "type": "scatter",
         "x": [
          "January",
          "February",
          "March",
          "April",
          "May",
          "June",
          "July",
          "August",
          "September",
          "October",
          "November",
          "December"
         ],
         "xaxis": "x",
         "y": {
          "bdata": "NjY+AAAAAAAAAAAA",
          "dtype": "i1"
         },
         "yaxis": "y"
        },
        {
         "hovertemplate": "Product line=Fashion accessories<br>Month=%{x}<br>Sales=%{y}<extra></extra>",
         "legendgroup": "Fashion accessories",
         "line": {
          "color": "#EF553B",
          "dash": "solid"
         },
         "marker": {
          "symbol": "circle"
         },
         "mode": "lines+markers",
         "name": "Fashion accessories",
         "orientation": "v",
         "showlegend": true,
         "type": "scatter",
         "x": [
          "January",
          "February",
          "March",
          "April",
          "May",
          "June",
          "July",
          "August",
          "September",
          "October",
          "November",
          "December"
         ],
         "xaxis": "x",
         "y": {
          "bdata": "QDw2AAAAAAAAAAAA",
          "dtype": "i1"
         },
         "yaxis": "y"
        },
        {
         "hovertemplate": "Product line=Food and beverages<br>Month=%{x}<br>Sales=%{y}<extra></extra>",
         "legendgroup": "Food and beverages",
         "line": {
          "color": "#00cc96",
          "dash": "solid"
         },
         "marker": {
          "symbol": "circle"
         },
         "mode": "lines+markers",
         "name": "Food and beverages",
         "orientation": "v",
         "showlegend": true,
         "type": "scatter",
         "x": [
          "January",
          "February",
          "March",
          "April",
          "May",
          "June",
          "July",
          "August",
          "September",
          "October",
          "November",
          "December"
         ],
         "xaxis": "x",
         "y": {
          "bdata": "OD44AAAAAAAAAAAA",
          "dtype": "i1"
         },
         "yaxis": "y"
        },
        {
         "hovertemplate": "Product line=Health and beauty<br>Month=%{x}<br>Sales=%{y}<extra></extra>",
         "legendgroup": "Health and beauty",
         "line": {
          "color": "#ab63fa",
          "dash": "solid"
         },
         "marker": {
          "symbol": "circle"
         },
         "mode": "lines+markers",
         "name": "Health and beauty",
         "orientation": "v",
         "showlegend": true,
         "type": "scatter",
         "x": [
          "January",
          "February",
          "March",
          "April",
          "May",
          "June",
          "July",
          "August",
          "September",
          "October",
          "November",
          "December"
         ],
         "xaxis": "x",
         "y": {
          "bdata": "MS45AAAAAAAAAAAA",
          "dtype": "i1"
         },
         "yaxis": "y"
        },
        {
         "hovertemplate": "Product line=Home and lifestyle<br>Month=%{x}<br>Sales=%{y}<extra></extra>",
         "legendgroup": "Home and lifestyle",
         "line": {
          "color": "#FFA15A",
          "dash": "solid"
         },
         "marker": {
          "symbol": "circle"
         },
         "mode": "lines+markers",
         "name": "Home and lifestyle",
         "orientation": "v",
         "showlegend": true,
         "type": "scatter",
         "x": [
          "January",
          "February",
          "March",
          "April",
          "May",
          "June",
          "July",
          "August",
          "September",
          "October",
          "November",
          "December"
         ],
         "xaxis": "x",
         "y": {
          "bdata": "OyY/AAAAAAAAAAAA",
          "dtype": "i1"
         },
         "yaxis": "y"
        },
        {
         "hovertemplate": "Product line=Sports and travel<br>Month=%{x}<br>Sales=%{y}<extra></extra>",
         "legendgroup": "Sports and travel",
         "line": {
          "color": "#19d3f3",
          "dash": "solid"
         },
         "marker": {
          "symbol": "circle"
         },
         "mode": "lines+markers",
         "name": "Sports and travel",
         "orientation": "v",
         "showlegend": true,
         "type": "scatter",
         "x": [
          "January",
          "February",
          "March",
          "April",
          "May",
          "June",
          "July",
          "August",
          "September",
          "October",
          "November",
          "December"
         ],
         "xaxis": "x",
         "y": {
          "bdata": "Ris1AAAAAAAAAAAA",
          "dtype": "i1"
         },
         "yaxis": "y"
        }
       ],
       "layout": {
        "legend": {
         "title": {
          "text": "Product line"
         },
         "tracegroupgap": 0
        },
        "template": {
         "data": {
          "bar": [
           {
            "error_x": {
             "color": "#2a3f5f"
            },
            "error_y": {
             "color": "#2a3f5f"
            },
            "marker": {
             "line": {
              "color": "#E5ECF6",
              "width": 0.5
             },
             "pattern": {
              "fillmode": "overlay",
              "size": 10,
              "solidity": 0.2
             }
            },
            "type": "bar"
           }
          ],
          "barpolar": [
           {
            "marker": {
             "line": {
              "color": "#E5ECF6",
              "width": 0.5
             },
             "pattern": {
              "fillmode": "overlay",
              "size": 10,
              "solidity": 0.2
             }
            },
            "type": "barpolar"
           }
          ],
          "carpet": [
           {
            "aaxis": {
             "endlinecolor": "#2a3f5f",
             "gridcolor": "white",
             "linecolor": "white",
             "minorgridcolor": "white",
             "startlinecolor": "#2a3f5f"
            },
            "baxis": {
             "endlinecolor": "#2a3f5f",
             "gridcolor": "white",
             "linecolor": "white",
             "minorgridcolor": "white",
             "startlinecolor": "#2a3f5f"
            },
            "type": "carpet"
           }
          ],
          "choropleth": [
           {
            "colorbar": {
             "outlinewidth": 0,
             "ticks": ""
            },
            "type": "choropleth"
           }
          ],
          "contour": [
           {
            "colorbar": {
             "outlinewidth": 0,
             "ticks": ""
            },
            "colorscale": [
             [
              0,
              "#0d0887"
             ],
             [
              0.1111111111111111,
              "#46039f"
             ],
             [
              0.2222222222222222,
              "#7201a8"
             ],
             [
              0.3333333333333333,
              "#9c179e"
             ],
             [
              0.4444444444444444,
              "#bd3786"
             ],
             [
              0.5555555555555556,
              "#d8576b"
             ],
             [
              0.6666666666666666,
              "#ed7953"
             ],
             [
              0.7777777777777778,
              "#fb9f3a"
             ],
             [
              0.8888888888888888,
              "#fdca26"
             ],
             [
              1,
              "#f0f921"
             ]
            ],
            "type": "contour"
           }
          ],
          "contourcarpet": [
           {
            "colorbar": {
             "outlinewidth": 0,
             "ticks": ""
            },
            "type": "contourcarpet"
           }
          ],
          "heatmap": [
           {
            "colorbar": {
             "outlinewidth": 0,
             "ticks": ""
            },
            "colorscale": [
             [
              0,
              "#0d0887"
             ],
             [
              0.1111111111111111,
              "#46039f"
             ],
             [
              0.2222222222222222,
              "#7201a8"
             ],
             [
              0.3333333333333333,
              "#9c179e"
             ],
             [
              0.4444444444444444,
              "#bd3786"
             ],
             [
              0.5555555555555556,
              "#d8576b"
             ],
             [
              0.6666666666666666,
              "#ed7953"
             ],
             [
              0.7777777777777778,
              "#fb9f3a"
             ],
             [
              0.8888888888888888,
              "#fdca26"
             ],
             [
              1,
              "#f0f921"
             ]
            ],
            "type": "heatmap"
           }
          ],
          "histogram": [
           {
            "marker": {
             "pattern": {
              "fillmode": "overlay",
              "size": 10,
              "solidity": 0.2
             }
            },
            "type": "histogram"
           }
          ],
          "histogram2d": [
           {
            "colorbar": {
             "outlinewidth": 0,
             "ticks": ""
            },
            "colorscale": [
             [
              0,
              "#0d0887"
             ],
             [
              0.1111111111111111,
              "#46039f"
             ],
             [
              0.2222222222222222,
              "#7201a8"
             ],
             [
              0.3333333333333333,
              "#9c179e"
             ],
             [
              0.4444444444444444,
              "#bd3786"
             ],
             [
              0.5555555555555556,
              "#d8576b"
             ],
             [
              0.6666666666666666,
              "#ed7953"
             ],
             [
              0.7777777777777778,
              "#fb9f3a"
             ],
             [
              0.8888888888888888,
              "#fdca26"
             ],
             [
              1,
              "#f0f921"
             ]
            ],
            "type": "histogram2d"
           }
          ],
          "histogram2dcontour": [
           {
            "colorbar": {
             "outlinewidth": 0,
             "ticks": ""
            },
            "colorscale": [
             [
              0,
              "#0d0887"
             ],
             [
              0.1111111111111111,
              "#46039f"
             ],
             [
              0.2222222222222222,
              "#7201a8"
             ],
             [
              0.3333333333333333,
              "#9c179e"
             ],
             [
              0.4444444444444444,
              "#bd3786"
             ],
             [
              0.5555555555555556,
              "#d8576b"
             ],
             [
              0.6666666666666666,
              "#ed7953"
             ],
             [
              0.7777777777777778,
              "#fb9f3a"
             ],
             [
              0.8888888888888888,
              "#fdca26"
             ],
             [
              1,
              "#f0f921"
             ]
            ],
            "type": "histogram2dcontour"
           }
          ],
          "mesh3d": [
           {
            "colorbar": {
             "outlinewidth": 0,
             "ticks": ""
            },
            "type": "mesh3d"
           }
          ],
          "parcoords": [
           {
            "line": {
             "colorbar": {
              "outlinewidth": 0,
              "ticks": ""
             }
            },
            "type": "parcoords"
           }
          ],
          "pie": [
           {
            "automargin": true,
            "type": "pie"
           }
          ],
          "scatter": [
           {
            "fillpattern": {
             "fillmode": "overlay",
             "size": 10,
             "solidity": 0.2
            },
            "type": "scatter"
           }
          ],
          "scatter3d": [
           {
            "line": {
             "colorbar": {
              "outlinewidth": 0,
              "ticks": ""
             }
            },
            "marker": {
             "colorbar": {
              "outlinewidth": 0,
              "ticks": ""
             }
            },
            "type": "scatter3d"
           }
          ],
          "scattercarpet": [
           {
            "marker": {
             "colorbar": {
              "outlinewidth": 0,
              "ticks": ""
             }
            },
            "type": "scattercarpet"
           }
          ],
          "scattergeo": [
           {
            "marker": {
             "colorbar": {
              "outlinewidth": 0,
              "ticks": ""
             }
            },
            "type": "scattergeo"
           }
          ],
          "scattergl": [
           {
            "marker": {
             "colorbar": {
              "outlinewidth": 0,
              "ticks": ""
             }
            },
            "type": "scattergl"
           }
          ],
          "scattermap": [
           {
            "marker": {
             "colorbar": {
              "outlinewidth": 0,
              "ticks": ""
             }
            },
            "type": "scattermap"
           }
          ],
          "scattermapbox": [
           {
            "marker": {
             "colorbar": {
              "outlinewidth": 0,
              "ticks": ""
             }
            },
            "type": "scattermapbox"
           }
          ],
          "scatterpolar": [
           {
            "marker": {
             "colorbar": {
              "outlinewidth": 0,
              "ticks": ""
             }
            },
            "type": "scatterpolar"
           }
          ],
          "scatterpolargl": [
           {
            "marker": {
             "colorbar": {
              "outlinewidth": 0,
              "ticks": ""
             }
            },
            "type": "scatterpolargl"
           }
          ],
          "scatterternary": [
           {
            "marker": {
             "colorbar": {
              "outlinewidth": 0,
              "ticks": ""
             }
            },
            "type": "scatterternary"
           }
          ],
          "surface": [
           {
            "colorbar": {
             "outlinewidth": 0,
             "ticks": ""
            },
            "colorscale": [
             [
              0,
              "#0d0887"
             ],
             [
              0.1111111111111111,
              "#46039f"
             ],
             [
              0.2222222222222222,
              "#7201a8"
             ],
             [
              0.3333333333333333,
              "#9c179e"
             ],
             [
              0.4444444444444444,
              "#bd3786"
             ],
             [
              0.5555555555555556,
              "#d8576b"
             ],
             [
              0.6666666666666666,
              "#ed7953"
             ],
             [
              0.7777777777777778,
              "#fb9f3a"
             ],
             [
              0.8888888888888888,
              "#fdca26"
             ],
             [
              1,
              "#f0f921"
             ]
            ],
            "type": "surface"
           }
          ],
          "table": [
           {
            "cells": {
             "fill": {
              "color": "#EBF0F8"
             },
             "line": {
              "color": "white"
             }
            },
            "header": {
             "fill": {
              "color": "#C8D4E3"
             },
             "line": {
              "color": "white"
             }
            },
            "type": "table"
           }
          ]
         },
         "layout": {
          "annotationdefaults": {
           "arrowcolor": "#2a3f5f",
           "arrowhead": 0,
           "arrowwidth": 1
          },
          "autotypenumbers": "strict",
          "coloraxis": {
           "colorbar": {
            "outlinewidth": 0,
            "ticks": ""
           }
          },
          "colorscale": {
           "diverging": [
            [
             0,
             "#8e0152"
            ],
            [
             0.1,
             "#c51b7d"
            ],
            [
             0.2,
             "#de77ae"
            ],
            [
             0.3,
             "#f1b6da"
            ],
            [
             0.4,
             "#fde0ef"
            ],
            [
             0.5,
             "#f7f7f7"
            ],
            [
             0.6,
             "#e6f5d0"
            ],
            [
             0.7,
             "#b8e186"
            ],
            [
             0.8,
             "#7fbc41"
            ],
            [
             0.9,
             "#4d9221"
            ],
            [
             1,
             "#276419"
            ]
           ],
           "sequential": [
            [
             0,
             "#0d0887"
            ],
            [
             0.1111111111111111,
             "#46039f"
            ],
            [
             0.2222222222222222,
             "#7201a8"
            ],
            [
             0.3333333333333333,
             "#9c179e"
            ],
            [
             0.4444444444444444,
             "#bd3786"
            ],
            [
             0.5555555555555556,
             "#d8576b"
            ],
            [
             0.6666666666666666,
             "#ed7953"
            ],
            [
             0.7777777777777778,
             "#fb9f3a"
            ],
            [
             0.8888888888888888,
             "#fdca26"
            ],
            [
             1,
             "#f0f921"
            ]
           ],
           "sequentialminus": [
            [
             0,
             "#0d0887"
            ],
            [
             0.1111111111111111,
             "#46039f"
            ],
            [
             0.2222222222222222,
             "#7201a8"
            ],
            [
             0.3333333333333333,
             "#9c179e"
            ],
            [
             0.4444444444444444,
             "#bd3786"
            ],
            [
             0.5555555555555556,
             "#d8576b"
            ],
            [
             0.6666666666666666,
             "#ed7953"
            ],
            [
             0.7777777777777778,
             "#fb9f3a"
            ],
            [
             0.8888888888888888,
             "#fdca26"
            ],
            [
             1,
             "#f0f921"
            ]
           ]
          },
          "colorway": [
           "#636efa",
           "#EF553B",
           "#00cc96",
           "#ab63fa",
           "#FFA15A",
           "#19d3f3",
           "#FF6692",
           "#B6E880",
           "#FF97FF",
           "#FECB52"
          ],
          "font": {
           "color": "#2a3f5f"
          },
          "geo": {
           "bgcolor": "white",
           "lakecolor": "white",
           "landcolor": "#E5ECF6",
           "showlakes": true,
           "showland": true,
           "subunitcolor": "white"
          },
          "hoverlabel": {
           "align": "left"
          },
          "hovermode": "closest",
          "mapbox": {
           "style": "light"
          },
          "paper_bgcolor": "white",
          "plot_bgcolor": "#E5ECF6",
          "polar": {
           "angularaxis": {
            "gridcolor": "white",
            "linecolor": "white",
            "ticks": ""
           },
           "bgcolor": "#E5ECF6",
           "radialaxis": {
            "gridcolor": "white",
            "linecolor": "white",
            "ticks": ""
           }
          },
          "scene": {
           "xaxis": {
            "backgroundcolor": "#E5ECF6",
            "gridcolor": "white",
            "gridwidth": 2,
            "linecolor": "white",
            "showbackground": true,
            "ticks": "",
            "zerolinecolor": "white"
           },
           "yaxis": {
            "backgroundcolor": "#E5ECF6",
            "gridcolor": "white",
            "gridwidth": 2,
            "linecolor": "white",
            "showbackground": true,
            "ticks": "",
            "zerolinecolor": "white"
           },
           "zaxis": {
            "backgroundcolor": "#E5ECF6",
            "gridcolor": "white",
            "gridwidth": 2,
            "linecolor": "white",
            "showbackground": true,
            "ticks": "",
            "zerolinecolor": "white"
           }
          },
          "shapedefaults": {
           "line": {
            "color": "#2a3f5f"
           }
          },
          "ternary": {
           "aaxis": {
            "gridcolor": "white",
            "linecolor": "white",
            "ticks": ""
           },
           "baxis": {
            "gridcolor": "white",
            "linecolor": "white",
            "ticks": ""
           },
           "bgcolor": "#E5ECF6",
           "caxis": {
            "gridcolor": "white",
            "linecolor": "white",
            "ticks": ""
           }
          },
          "title": {
           "x": 0.05
          },
          "xaxis": {
           "automargin": true,
           "gridcolor": "white",
           "linecolor": "white",
           "ticks": "",
           "title": {
            "standoff": 15
           },
           "zerolinecolor": "white",
           "zerolinewidth": 2
          },
          "yaxis": {
           "automargin": true,
           "gridcolor": "white",
           "linecolor": "white",
           "ticks": "",
           "title": {
            "standoff": 15
           },
           "zerolinecolor": "white",
           "zerolinewidth": 2
          }
         }
        },
        "title": {
         "text": "Monthly Sales Trend by Product Type"
        },
        "xaxis": {
         "anchor": "y",
         "domain": [
          0,
          1
         ],
         "title": {
          "text": "Month"
         }
        },
        "yaxis": {
         "anchor": "x",
         "domain": [
          0,
          1
         ],
         "title": {
          "text": "Sales"
         }
        }
       }
      }
     },
     "metadata": {},
     "output_type": "display_data"
    }
   ],
   "source": [
    "from pandas.api.types import CategoricalDtype\n",
    "\n",
    "# Define month order\n",
    "month_order = [\"January\",\"February\",\"March\",\"April\",\"May\",\"June\",\n",
    "               \"July\",\"August\",\"September\",\"October\",\"November\",\"December\"]\n",
    "\n",
    "a['Month'] = pd.Categorical(a['Month'], categories=month_order, ordered=True)\n",
    "monthly_sales = a.groupby(['Month', 'Product line']).size().reset_index(name='Sales')\n",
    "\n",
    "fig = px.line(\n",
    "    monthly_sales,\n",
    "    x='Month',\n",
    "    y='Sales',\n",
    "    color='Product line',\n",
    "    markers=True,\n",
    "    title='Monthly Sales Trend by Product Type'\n",
    ")\n",
    "\n",
    "fig.show()\n"
   ]
  },
  {
   "cell_type": "code",
   "execution_count": 50,
   "id": "d24a9a8f",
   "metadata": {},
   "outputs": [
    {
     "data": {
      "application/vnd.microsoft.datawrangler.viewer.v0+json": {
       "columns": [
        {
         "name": "index",
         "rawType": "int64",
         "type": "integer"
        },
        {
         "name": "Invoice ID",
         "rawType": "object",
         "type": "string"
        },
        {
         "name": "Branch",
         "rawType": "object",
         "type": "string"
        },
        {
         "name": "City",
         "rawType": "object",
         "type": "string"
        },
        {
         "name": "Customer type",
         "rawType": "object",
         "type": "string"
        },
        {
         "name": "Gender",
         "rawType": "object",
         "type": "string"
        },
        {
         "name": "Product line",
         "rawType": "object",
         "type": "string"
        },
        {
         "name": "Unit price",
         "rawType": "float64",
         "type": "float"
        },
        {
         "name": "Quantity",
         "rawType": "int64",
         "type": "integer"
        },
        {
         "name": "Tax 5%",
         "rawType": "float64",
         "type": "float"
        },
        {
         "name": "Sales",
         "rawType": "float64",
         "type": "float"
        },
        {
         "name": "Date",
         "rawType": "object",
         "type": "string"
        },
        {
         "name": "Time",
         "rawType": "object",
         "type": "string"
        },
        {
         "name": "Payment",
         "rawType": "object",
         "type": "string"
        },
        {
         "name": "cogs",
         "rawType": "float64",
         "type": "float"
        },
        {
         "name": "gross margin percentage",
         "rawType": "float64",
         "type": "float"
        },
        {
         "name": "gross income",
         "rawType": "float64",
         "type": "float"
        },
        {
         "name": "Rating",
         "rawType": "float64",
         "type": "float"
        }
       ],
       "ref": "a991dbb7-2f7f-4223-9b52-ecba8a9f27ed",
       "rows": [
        [
         "0",
         "750-67-8428",
         "Alex",
         "Yangon",
         "Member",
         "Female",
         "Health and beauty",
         "74.69",
         "7",
         "26.1415",
         "548.9715",
         "1/5/2019",
         "1:08:00 PM",
         "Ewallet",
         "522.83",
         "4.761904762",
         "26.1415",
         "9.1"
        ],
        [
         "1",
         "226-31-3081",
         "Giza",
         "Naypyitaw",
         "Normal",
         "Female",
         "Electronic accessories",
         "15.28",
         "5",
         "3.82",
         "80.22",
         "3/8/2019",
         "10:29:00 AM",
         "Cash",
         "76.4",
         "4.761904762",
         "3.82",
         "9.6"
        ],
        [
         "2",
         "631-41-3108",
         "Alex",
         "Yangon",
         "Normal",
         "Female",
         "Home and lifestyle",
         "46.33",
         "7",
         "16.2155",
         "340.5255",
         "3/3/2019",
         "1:23:00 PM",
         "Credit card",
         "324.31",
         "4.761904762",
         "16.2155",
         "7.4"
        ],
        [
         "3",
         "123-19-1176",
         "Alex",
         "Yangon",
         "Member",
         "Female",
         "Health and beauty",
         "58.22",
         "8",
         "23.288",
         "489.048",
         "1/27/2019",
         "8:33:00 PM",
         "Ewallet",
         "465.76",
         "4.761904762",
         "23.288",
         "8.4"
        ],
        [
         "4",
         "373-73-7910",
         "Alex",
         "Yangon",
         "Member",
         "Female",
         "Sports and travel",
         "86.31",
         "7",
         "30.2085",
         "634.3785",
         "2/8/2019",
         "10:37:00 AM",
         "Ewallet",
         "604.17",
         "4.761904762",
         "30.2085",
         "5.3"
        ]
       ],
       "shape": {
        "columns": 17,
        "rows": 5
       }
      },
      "text/html": [
       "<div>\n",
       "<style scoped>\n",
       "    .dataframe tbody tr th:only-of-type {\n",
       "        vertical-align: middle;\n",
       "    }\n",
       "\n",
       "    .dataframe tbody tr th {\n",
       "        vertical-align: top;\n",
       "    }\n",
       "\n",
       "    .dataframe thead th {\n",
       "        text-align: right;\n",
       "    }\n",
       "</style>\n",
       "<table border=\"1\" class=\"dataframe\">\n",
       "  <thead>\n",
       "    <tr style=\"text-align: right;\">\n",
       "      <th></th>\n",
       "      <th>Invoice ID</th>\n",
       "      <th>Branch</th>\n",
       "      <th>City</th>\n",
       "      <th>Customer type</th>\n",
       "      <th>Gender</th>\n",
       "      <th>Product line</th>\n",
       "      <th>Unit price</th>\n",
       "      <th>Quantity</th>\n",
       "      <th>Tax 5%</th>\n",
       "      <th>Sales</th>\n",
       "      <th>Date</th>\n",
       "      <th>Time</th>\n",
       "      <th>Payment</th>\n",
       "      <th>cogs</th>\n",
       "      <th>gross margin percentage</th>\n",
       "      <th>gross income</th>\n",
       "      <th>Rating</th>\n",
       "    </tr>\n",
       "  </thead>\n",
       "  <tbody>\n",
       "    <tr>\n",
       "      <th>0</th>\n",
       "      <td>750-67-8428</td>\n",
       "      <td>Alex</td>\n",
       "      <td>Yangon</td>\n",
       "      <td>Member</td>\n",
       "      <td>Female</td>\n",
       "      <td>Health and beauty</td>\n",
       "      <td>74.69</td>\n",
       "      <td>7</td>\n",
       "      <td>26.1415</td>\n",
       "      <td>548.9715</td>\n",
       "      <td>1/5/2019</td>\n",
       "      <td>1:08:00 PM</td>\n",
       "      <td>Ewallet</td>\n",
       "      <td>522.83</td>\n",
       "      <td>4.761905</td>\n",
       "      <td>26.1415</td>\n",
       "      <td>9.1</td>\n",
       "    </tr>\n",
       "    <tr>\n",
       "      <th>1</th>\n",
       "      <td>226-31-3081</td>\n",
       "      <td>Giza</td>\n",
       "      <td>Naypyitaw</td>\n",
       "      <td>Normal</td>\n",
       "      <td>Female</td>\n",
       "      <td>Electronic accessories</td>\n",
       "      <td>15.28</td>\n",
       "      <td>5</td>\n",
       "      <td>3.8200</td>\n",
       "      <td>80.2200</td>\n",
       "      <td>3/8/2019</td>\n",
       "      <td>10:29:00 AM</td>\n",
       "      <td>Cash</td>\n",
       "      <td>76.40</td>\n",
       "      <td>4.761905</td>\n",
       "      <td>3.8200</td>\n",
       "      <td>9.6</td>\n",
       "    </tr>\n",
       "    <tr>\n",
       "      <th>2</th>\n",
       "      <td>631-41-3108</td>\n",
       "      <td>Alex</td>\n",
       "      <td>Yangon</td>\n",
       "      <td>Normal</td>\n",
       "      <td>Female</td>\n",
       "      <td>Home and lifestyle</td>\n",
       "      <td>46.33</td>\n",
       "      <td>7</td>\n",
       "      <td>16.2155</td>\n",
       "      <td>340.5255</td>\n",
       "      <td>3/3/2019</td>\n",
       "      <td>1:23:00 PM</td>\n",
       "      <td>Credit card</td>\n",
       "      <td>324.31</td>\n",
       "      <td>4.761905</td>\n",
       "      <td>16.2155</td>\n",
       "      <td>7.4</td>\n",
       "    </tr>\n",
       "    <tr>\n",
       "      <th>3</th>\n",
       "      <td>123-19-1176</td>\n",
       "      <td>Alex</td>\n",
       "      <td>Yangon</td>\n",
       "      <td>Member</td>\n",
       "      <td>Female</td>\n",
       "      <td>Health and beauty</td>\n",
       "      <td>58.22</td>\n",
       "      <td>8</td>\n",
       "      <td>23.2880</td>\n",
       "      <td>489.0480</td>\n",
       "      <td>1/27/2019</td>\n",
       "      <td>8:33:00 PM</td>\n",
       "      <td>Ewallet</td>\n",
       "      <td>465.76</td>\n",
       "      <td>4.761905</td>\n",
       "      <td>23.2880</td>\n",
       "      <td>8.4</td>\n",
       "    </tr>\n",
       "    <tr>\n",
       "      <th>4</th>\n",
       "      <td>373-73-7910</td>\n",
       "      <td>Alex</td>\n",
       "      <td>Yangon</td>\n",
       "      <td>Member</td>\n",
       "      <td>Female</td>\n",
       "      <td>Sports and travel</td>\n",
       "      <td>86.31</td>\n",
       "      <td>7</td>\n",
       "      <td>30.2085</td>\n",
       "      <td>634.3785</td>\n",
       "      <td>2/8/2019</td>\n",
       "      <td>10:37:00 AM</td>\n",
       "      <td>Ewallet</td>\n",
       "      <td>604.17</td>\n",
       "      <td>4.761905</td>\n",
       "      <td>30.2085</td>\n",
       "      <td>5.3</td>\n",
       "    </tr>\n",
       "  </tbody>\n",
       "</table>\n",
       "</div>"
      ],
      "text/plain": [
       "    Invoice ID Branch       City Customer type  Gender  \\\n",
       "0  750-67-8428   Alex     Yangon        Member  Female   \n",
       "1  226-31-3081   Giza  Naypyitaw        Normal  Female   \n",
       "2  631-41-3108   Alex     Yangon        Normal  Female   \n",
       "3  123-19-1176   Alex     Yangon        Member  Female   \n",
       "4  373-73-7910   Alex     Yangon        Member  Female   \n",
       "\n",
       "             Product line  Unit price  Quantity   Tax 5%     Sales       Date  \\\n",
       "0       Health and beauty       74.69         7  26.1415  548.9715   1/5/2019   \n",
       "1  Electronic accessories       15.28         5   3.8200   80.2200   3/8/2019   \n",
       "2      Home and lifestyle       46.33         7  16.2155  340.5255   3/3/2019   \n",
       "3       Health and beauty       58.22         8  23.2880  489.0480  1/27/2019   \n",
       "4       Sports and travel       86.31         7  30.2085  634.3785   2/8/2019   \n",
       "\n",
       "          Time      Payment    cogs  gross margin percentage  gross income  \\\n",
       "0   1:08:00 PM      Ewallet  522.83                 4.761905       26.1415   \n",
       "1  10:29:00 AM         Cash   76.40                 4.761905        3.8200   \n",
       "2   1:23:00 PM  Credit card  324.31                 4.761905       16.2155   \n",
       "3   8:33:00 PM      Ewallet  465.76                 4.761905       23.2880   \n",
       "4  10:37:00 AM      Ewallet  604.17                 4.761905       30.2085   \n",
       "\n",
       "   Rating  \n",
       "0     9.1  \n",
       "1     9.6  \n",
       "2     7.4  \n",
       "3     8.4  \n",
       "4     5.3  "
      ]
     },
     "execution_count": 50,
     "metadata": {},
     "output_type": "execute_result"
    }
   ],
   "source": [
    "# finding profit and loss of each product line over months\n",
    "\n",
    "a=pd.read_csv(\"SuperMarket Analysis.csv\")\n",
    "a.head()"
   ]
  },
  {
   "cell_type": "code",
   "execution_count": 54,
   "id": "99369553",
   "metadata": {},
   "outputs": [
    {
     "name": "stdout",
     "output_type": "stream",
     "text": [
      "      Invoice ID Branch       City Customer type  Gender  \\\n",
      "0    750-67-8428   Alex     Yangon        Member  Female   \n",
      "3    123-19-1176   Alex     Yangon        Member  Female   \n",
      "4    373-73-7910   Alex     Yangon        Member  Female   \n",
      "5    699-14-3026   Giza  Naypyitaw        Member  Female   \n",
      "6    355-53-5943   Alex     Yangon        Member  Female   \n",
      "..           ...    ...        ...           ...     ...   \n",
      "988  267-62-7380   Giza  Naypyitaw        Member    Male   \n",
      "989  430-53-4718  Cairo   Mandalay        Member    Male   \n",
      "994  652-49-6720   Giza  Naypyitaw        Member  Female   \n",
      "997  727-02-1313   Alex     Yangon        Member    Male   \n",
      "999  849-09-3807   Alex     Yangon        Member  Female   \n",
      "\n",
      "               Product line  Unit price  Quantity   Tax 5%     Sales  \\\n",
      "0         Health and beauty       74.69         7  26.1415  548.9715   \n",
      "3         Health and beauty       58.22         8  23.2880  489.0480   \n",
      "4         Sports and travel       86.31         7  30.2085  634.3785   \n",
      "5    Electronic accessories       85.39         7  29.8865  627.6165   \n",
      "6    Electronic accessories       68.84         6  20.6520  433.6920   \n",
      "..                      ...         ...       ...      ...       ...   \n",
      "988  Electronic accessories       82.34        10  41.1700  864.5700   \n",
      "989       Health and beauty       75.37         8  30.1480  633.1080   \n",
      "994  Electronic accessories       60.95         1   3.0475   63.9975   \n",
      "997      Food and beverages       31.84         1   1.5920   33.4320   \n",
      "999     Fashion accessories       88.34         7  30.9190  649.2990   \n",
      "\n",
      "          Date         Time      Payment    cogs  gross margin percentage  \\\n",
      "0     1/5/2019   1:08:00 PM      Ewallet  522.83                 4.761905   \n",
      "3    1/27/2019   8:33:00 PM      Ewallet  465.76                 4.761905   \n",
      "4     2/8/2019  10:37:00 AM      Ewallet  604.17                 4.761905   \n",
      "5    3/25/2019   6:30:00 PM      Ewallet  597.73                 4.761905   \n",
      "6    2/25/2019   2:36:00 PM      Ewallet  413.04                 4.761905   \n",
      "..         ...          ...          ...     ...                      ...   \n",
      "988  3/29/2019   7:12:00 PM      Ewallet  823.40                 4.761905   \n",
      "989  1/28/2019   3:46:00 PM  Credit card  602.96                 4.761905   \n",
      "994  2/18/2019  11:40:00 AM      Ewallet   60.95                 4.761905   \n",
      "997   2/9/2019   1:22:00 PM         Cash   31.84                 4.761905   \n",
      "999  2/18/2019   1:28:00 PM         Cash  618.38                 4.761905   \n",
      "\n",
      "     gross income  Rating  Repeat Customer  \n",
      "0         26.1415     9.1            False  \n",
      "3         23.2880     8.4            False  \n",
      "4         30.2085     5.3            False  \n",
      "5         29.8865     4.1            False  \n",
      "6         20.6520     5.8            False  \n",
      "..            ...     ...              ...  \n",
      "988       41.1700     4.3            False  \n",
      "989       30.1480     8.4            False  \n",
      "994        3.0475     5.9            False  \n",
      "997        1.5920     7.7            False  \n",
      "999       30.9190     6.6            False  \n",
      "\n",
      "[565 rows x 18 columns]\n"
     ]
    }
   ],
   "source": [
    "# repeat customer behaviour\n",
    "\n",
    "repeat_customers_members = a[a['Customer type'] == 'Member']\n",
    "print(repeat_customers_members)"
   ]
  },
  {
   "cell_type": "code",
   "execution_count": 55,
   "id": "be32b1de",
   "metadata": {},
   "outputs": [
    {
     "name": "stdout",
     "output_type": "stream",
     "text": [
      "      Invoice ID Branch       City Customer type  Gender  \\\n",
      "1    226-31-3081   Giza  Naypyitaw        Normal  Female   \n",
      "2    631-41-3108   Alex     Yangon        Normal  Female   \n",
      "130  191-10-6171  Cairo   Mandalay        Normal  Female   \n",
      "132  695-51-0018  Cairo   Mandalay        Normal  Female   \n",
      "134  483-71-1164   Giza  Naypyitaw        Normal  Female   \n",
      "..           ...    ...        ...           ...     ...   \n",
      "992  745-74-0715   Alex     Yangon        Normal    Male   \n",
      "993  690-01-6631  Cairo   Mandalay        Normal    Male   \n",
      "995  233-67-5758   Giza  Naypyitaw        Normal    Male   \n",
      "996  303-96-2227  Cairo   Mandalay        Normal  Female   \n",
      "998  347-56-2442   Alex     Yangon        Normal    Male   \n",
      "\n",
      "               Product line  Unit price  Quantity   Tax 5%      Sales  \\\n",
      "1    Electronic accessories       15.28         5   3.8200    80.2200   \n",
      "2        Home and lifestyle       46.33         7  16.2155   340.5255   \n",
      "130     Fashion accessories       39.62         7  13.8670   291.2070   \n",
      "132       Sports and travel       34.84         4   6.9680   146.3280   \n",
      "134       Health and beauty       81.30         6  24.3900   512.1900   \n",
      "..                      ...         ...       ...      ...        ...   \n",
      "992  Electronic accessories       58.03         2   5.8030   121.8630   \n",
      "993     Fashion accessories       17.49        10   8.7450   183.6450   \n",
      "995       Health and beauty       40.35         1   2.0175    42.3675   \n",
      "996      Home and lifestyle       97.38        10  48.6900  1022.4900   \n",
      "998      Home and lifestyle       65.82         1   3.2910    69.1110   \n",
      "\n",
      "          Date         Time      Payment    cogs  gross margin percentage  \\\n",
      "1     3/8/2019  10:29:00 AM         Cash   76.40                 4.761905   \n",
      "2     3/3/2019   1:23:00 PM  Credit card  324.31                 4.761905   \n",
      "130  1/25/2019   1:18:00 PM         Cash  277.34                 4.761905   \n",
      "132  2/10/2019   6:36:00 PM         Cash  139.36                 4.761905   \n",
      "134   3/8/2019   4:43:00 PM      Ewallet  487.80                 4.761905   \n",
      "..         ...          ...          ...     ...                      ...   \n",
      "992  3/10/2019   8:46:00 PM      Ewallet  116.06                 4.761905   \n",
      "993  2/22/2019   6:35:00 PM      Ewallet  174.90                 4.761905   \n",
      "995  1/29/2019   1:46:00 PM      Ewallet   40.35                 4.761905   \n",
      "996   3/2/2019   5:16:00 PM      Ewallet  973.80                 4.761905   \n",
      "998  2/22/2019   3:33:00 PM         Cash   65.82                 4.761905   \n",
      "\n",
      "     gross income  Rating  Repeat Customer  \n",
      "1          3.8200     9.6            False  \n",
      "2         16.2155     7.4            False  \n",
      "130       13.8670     7.5            False  \n",
      "132        6.9680     7.4            False  \n",
      "134       24.3900     5.3            False  \n",
      "..            ...     ...              ...  \n",
      "992        5.8030     8.8            False  \n",
      "993        8.7450     6.6            False  \n",
      "995        2.0175     6.2            False  \n",
      "996       48.6900     4.4            False  \n",
      "998        3.2910     4.1            False  \n",
      "\n",
      "[435 rows x 18 columns]\n"
     ]
    }
   ],
   "source": [
    "repeat_customers_normal = a[a['Customer type'] == 'Normal']\n",
    "print(repeat_customers_normal)"
   ]
  },
  {
   "cell_type": "code",
   "execution_count": null,
   "id": "170688ea",
   "metadata": {},
   "outputs": [
    {
     "name": "stdout",
     "output_type": "stream",
     "text": [
      "Customer type\n",
      "Member    189694.764\n",
      "Normal    133271.985\n",
      "Name: Sales, dtype: float64\n",
      "Customer type\n",
      "Member    9033.084\n",
      "Normal    6346.285\n",
      "Name: gross income, dtype: float64\n"
     ]
    }
   ],
   "source": [
    "customer_sales = a.groupby.Months('Customer type')['Sales'].sum()\n",
    "customer_profit = a.groupby('Customer type')['gross income'].sum()\n",
    "\n",
    "print(customer_sales)\n",
    "print(customer_profit)\n"
   ]
  },
  {
   "cell_type": "markdown",
   "id": "536d4699",
   "metadata": {},
   "source": [
    "productline profitability"
   ]
  },
  {
   "cell_type": "markdown",
   "id": "fb78edd4",
   "metadata": {},
   "source": []
  }
 ],
 "metadata": {
  "kernelspec": {
   "display_name": "Python 3",
   "language": "python",
   "name": "python3"
  },
  "language_info": {
   "codemirror_mode": {
    "name": "ipython",
    "version": 3
   },
   "file_extension": ".py",
   "mimetype": "text/x-python",
   "name": "python",
   "nbconvert_exporter": "python",
   "pygments_lexer": "ipython3",
   "version": "3.13.5"
  }
 },
 "nbformat": 4,
 "nbformat_minor": 5
}
